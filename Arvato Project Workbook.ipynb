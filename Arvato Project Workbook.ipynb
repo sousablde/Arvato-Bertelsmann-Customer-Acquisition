{
 "cells": [
  {
   "cell_type": "markdown",
   "metadata": {},
   "source": [
    "# Capstone Project: Create a Customer Segmentation Report for Arvato Financial Services\n",
    "\n",
    "In this project, you will analyze demographics data for customers of a mail-order sales company in Germany, comparing it against demographics information for the general population. You'll use unsupervised learning techniques to perform customer segmentation, identifying the parts of the population that best describe the core customer base of the company. Then, you'll apply what you've learned on a third dataset with demographics information for targets of a marketing campaign for the company, and use a model to predict which individuals are most likely to convert into becoming customers for the company. The data that you will use has been provided by our partners at Bertelsmann Arvato Analytics, and represents a real-life data science task.\n",
    "\n",
    "If you completed the first term of this program, you will be familiar with the first part of this project, from the unsupervised learning project. The versions of those two datasets used in this project will include many more features and has not been pre-cleaned. You are also free to choose whatever approach you'd like to analyzing the data rather than follow pre-determined steps. In your work on this project, make sure that you carefully document your steps and decisions, since your main deliverable for this project will be a blog post reporting your findings."
   ]
  },
  {
   "cell_type": "markdown",
   "metadata": {},
   "source": [
    "### Importing Libraries"
   ]
  },
  {
   "cell_type": "code",
   "execution_count": 1,
   "metadata": {},
   "outputs": [
    {
     "name": "stderr",
     "output_type": "stream",
     "text": [
      "C:\\Users\\sousa\\AppData\\Roaming\\Python\\Python37\\site-packages\\sklearn\\externals\\joblib\\__init__.py:15: DeprecationWarning: sklearn.externals.joblib is deprecated in 0.21 and will be removed in 0.23. Please import this functionality directly from joblib, which can be installed with: pip install joblib. If this warning is raised when loading pickled models, you may need to re-serialize those models with scikit-learn 0.21+.\n",
      "  warnings.warn(msg, category=DeprecationWarning)\n"
     ]
    }
   ],
   "source": [
    "# import libraries here; add more as necessary\n",
    "import numpy as np\n",
    "import pandas as pd\n",
    "import matplotlib.pyplot as plt\n",
    "import seaborn as sns\n",
    "\n",
    "#imports to help me plot my venn diagrams\n",
    "import matplotlib_venn as venn2\n",
    "from matplotlib_venn import venn2\n",
    "from pylab import rcParams\n",
    "\n",
    "# import the util.py file where I define my functions\n",
    "from utils import *\n",
    "\n",
    "# sklearn\n",
    "from sklearn.preprocessing import StandardScaler, RobustScaler, MinMaxScaler, OneHotEncoder\n",
    "from sklearn.impute import SimpleImputer\n",
    "from sklearn.decomposition import PCA\n",
    "from sklearn.cluster import KMeans\n",
    "from sklearn.ensemble import RandomForestClassifier\n",
    "from sklearn.model_selection import GridSearchCV, train_test_split\n",
    "from sklearn.metrics import confusion_matrix,precision_recall_fscore_support\n",
    "from sklearn.utils.multiclass import unique_labels\n",
    "from sklearn.linear_model import LinearRegression\n",
    "from sklearn.model_selection import train_test_split, StratifiedKFold, cross_val_score, RandomizedSearchCV, GridSearchCV\n",
    "from sklearn.metrics import roc_auc_score\n",
    "from sklearn.pipeline import Pipeline\n",
    "from sklearn.ensemble import RandomForestClassifier, GradientBoostingClassifier\n",
    "from sklearn.linear_model import LogisticRegression\n",
    "from sklearn.neural_network import MLPClassifier\n",
    "from sklearn.model_selection import StratifiedKFold, learning_curve\n",
    "\n",
    "import xgboost as xgb\n",
    "import lightgbm as lgb\n",
    "\n",
    "from skopt import BayesSearchCV\n",
    "\n",
    "# magic word for producing visualizations in notebook\n",
    "%matplotlib inline"
   ]
  },
  {
   "cell_type": "markdown",
   "metadata": {},
   "source": [
    "## Part 0: Get to Know the Data\n",
    "\n",
    "There are four data files associated with this project:\n",
    "\n",
    "- `Udacity_AZDIAS_052018.csv`: Demographics data for the general population of Germany; 891 211 persons (rows) x 366 features (columns).\n",
    "- `Udacity_CUSTOMERS_052018.csv`: Demographics data for customers of a mail-order company; 191 652 persons (rows) x 369 features (columns).\n",
    "- `Udacity_MAILOUT_052018_TRAIN.csv`: Demographics data for individuals who were targets of a marketing campaign; 42 982 persons (rows) x 367 (columns).\n",
    "- `Udacity_MAILOUT_052018_TEST.csv`: Demographics data for individuals who were targets of a marketing campaign; 42 833 persons (rows) x 366 (columns).\n",
    "\n",
    "Each row of the demographics files represents a single person, but also includes information outside of individuals, including information about their household, building, and neighborhood. Use the information from the first two files to figure out how customers (\"CUSTOMERS\") are similar to or differ from the general population at large (\"AZDIAS\"), then use your analysis to make predictions on the other two files (\"MAILOUT\"), predicting which recipients are most likely to become a customer for the mail-order company.\n",
    "\n",
    "The \"CUSTOMERS\" file contains three extra columns ('CUSTOMER_GROUP', 'ONLINE_PURCHASE', and 'PRODUCT_GROUP'), which provide broad information about the customers depicted in the file. The original \"MAILOUT\" file included one additional column, \"RESPONSE\", which indicated whether or not each recipient became a customer of the company. For the \"TRAIN\" subset, this column has been retained, but in the \"TEST\" subset it has been removed; it is against that withheld column that your final predictions will be assessed in the Kaggle competition.\n",
    "\n",
    "Otherwise, all of the remaining columns are the same between the three data files. For more information about the columns depicted in the files, you can refer to two Excel spreadsheets provided in the workspace. [One of them](./DIAS Information Levels - Attributes 2017.xlsx) is a top-level list of attributes and descriptions, organized by informational category. [The other](./DIAS Attributes - Values 2017.xlsx) is a detailed mapping of data values for each feature in alphabetical order.\n",
    "\n",
    "In the below cell, we've provided some initial code to load in the first two datasets. Note for all of the `.csv` data files in this project that they're semicolon (`;`) delimited, so an additional argument in the [`read_csv()`](https://pandas.pydata.org/pandas-docs/stable/generated/pandas.read_csv.html) call has been included to read in the data properly. Also, considering the size of the datasets, it may take some time for them to load completely.\n",
    "\n",
    "You'll notice when the data is loaded in that a warning message will immediately pop up. Before you really start digging into the modeling and analysis, you're going to need to perform some cleaning. Take some time to browse the structure of the data and look over the informational spreadsheets to understand the data values. Make some decisions on which features to keep, which features to drop, and if any revisions need to be made on data formats. It'll be a good idea to create a function with pre-processing steps, since you'll need to clean all of the datasets before you work with them."
   ]
  },
  {
   "cell_type": "code",
   "execution_count": 2,
   "metadata": {},
   "outputs": [
    {
     "name": "stderr",
     "output_type": "stream",
     "text": [
      "C:\\ProgramData\\Anaconda3\\lib\\site-packages\\IPython\\core\\interactiveshell.py:3058: DtypeWarning: Columns (19,20) have mixed types. Specify dtype option on import or set low_memory=False.\n",
      "  interactivity=interactivity, compiler=compiler, result=result)\n"
     ]
    }
   ],
   "source": [
    "# load in the data\n",
    "'''\n",
    "There are 2 warnings when we read in the datasets:\n",
    "DtypeWarning: Columns (19,20) have mixed types. Specify dtype option on import or set low_memory=False.\n",
    "interactivity=interactivity, compiler=compiler, result=result)\n",
    "\n",
    "This warning happens when pandas attempts to guess datatypes on particular columns, I will address this on \n",
    "the pre-processing steps\n",
    "'''\n",
    "azdias = pd.read_csv(r\"C:\\Users\\sousa\\Desktop\\github\\Arvato\\data\\azdias.csv\")\n",
    "customers = pd.read_csv(r\"C:\\Users\\sousa\\Desktop\\github\\Arvato\\data\\customers.csv\")\n",
    "attributes = pd.read_csv(r\"C:\\Users\\sousa\\Desktop\\github\\Arvato\\data\\features.csv\")\n",
    "dias_xls = pd.read_excel(r\"C:\\Users\\sousa\\Desktop\\github\\Arvato\\data\\DIAS Attributes - Values 2017.xlsx\", header = 1)"
   ]
  },
  {
   "cell_type": "markdown",
   "metadata": {},
   "source": [
    "I want to use the dias_xls file to help me find the values that correspond to missing or unknow so I will perform a few fixes.\n",
    "Namely, havind row 1 be the header for the dataframe and removing the extra unnammed column."
   ]
  },
  {
   "cell_type": "code",
   "execution_count": 3,
   "metadata": {},
   "outputs": [
    {
     "data": {
      "text/html": [
       "<div>\n",
       "<style scoped>\n",
       "    .dataframe tbody tr th:only-of-type {\n",
       "        vertical-align: middle;\n",
       "    }\n",
       "\n",
       "    .dataframe tbody tr th {\n",
       "        vertical-align: top;\n",
       "    }\n",
       "\n",
       "    .dataframe thead th {\n",
       "        text-align: right;\n",
       "    }\n",
       "</style>\n",
       "<table border=\"1\" class=\"dataframe\">\n",
       "  <thead>\n",
       "    <tr style=\"text-align: right;\">\n",
       "      <th></th>\n",
       "      <th>Attribute</th>\n",
       "      <th>Description</th>\n",
       "      <th>Value</th>\n",
       "      <th>Meaning</th>\n",
       "    </tr>\n",
       "  </thead>\n",
       "  <tbody>\n",
       "    <tr>\n",
       "      <th>0</th>\n",
       "      <td>AGER_TYP</td>\n",
       "      <td>best-ager typology</td>\n",
       "      <td>-1</td>\n",
       "      <td>unknown</td>\n",
       "    </tr>\n",
       "    <tr>\n",
       "      <th>1</th>\n",
       "      <td>AGER_TYP</td>\n",
       "      <td>NaN</td>\n",
       "      <td>0</td>\n",
       "      <td>no classification possible</td>\n",
       "    </tr>\n",
       "    <tr>\n",
       "      <th>2</th>\n",
       "      <td>AGER_TYP</td>\n",
       "      <td>NaN</td>\n",
       "      <td>1</td>\n",
       "      <td>passive elderly</td>\n",
       "    </tr>\n",
       "    <tr>\n",
       "      <th>3</th>\n",
       "      <td>AGER_TYP</td>\n",
       "      <td>NaN</td>\n",
       "      <td>2</td>\n",
       "      <td>cultural elderly</td>\n",
       "    </tr>\n",
       "    <tr>\n",
       "      <th>4</th>\n",
       "      <td>AGER_TYP</td>\n",
       "      <td>NaN</td>\n",
       "      <td>3</td>\n",
       "      <td>experience-driven elderly</td>\n",
       "    </tr>\n",
       "  </tbody>\n",
       "</table>\n",
       "</div>"
      ],
      "text/plain": [
       "  Attribute         Description Value                     Meaning\n",
       "0  AGER_TYP  best-ager typology    -1                     unknown\n",
       "1  AGER_TYP                 NaN     0  no classification possible\n",
       "2  AGER_TYP                 NaN     1             passive elderly\n",
       "3  AGER_TYP                 NaN     2            cultural elderly\n",
       "4  AGER_TYP                 NaN     3   experience-driven elderly"
      ]
     },
     "execution_count": 3,
     "metadata": {},
     "output_type": "execute_result"
    }
   ],
   "source": [
    "dias_xls.drop(columns=['Unnamed: 0'], inplace=True)\n",
    "dias_xls['Attribute'] = dias_xls['Attribute'].ffill()\n",
    "dias_xls.head()"
   ]
  },
  {
   "cell_type": "code",
   "execution_count": 4,
   "metadata": {},
   "outputs": [
    {
     "name": "stdout",
     "output_type": "stream",
     "text": [
      "Index(['CAMEO_DEUG_2015', 'CAMEO_INTL_2015'], dtype='object')\n",
      "Index(['CAMEO_DEUG_2015', 'CAMEO_INTL_2015'], dtype='object')\n"
     ]
    }
   ],
   "source": [
    "# I will now check what is the problem with the columns 19 and 20\n",
    "# getting the name of these columns\n",
    "print(azdias.iloc[:,19:21].columns)\n",
    "print(customers.iloc[:,19:21].columns)"
   ]
  },
  {
   "cell_type": "markdown",
   "metadata": {},
   "source": [
    "It seems like the mixed type issue comes from that  X that appears in these columns.\n",
    "There are ints, floats and strings all in the mix, I also want to do a quick fix on CAMEO_DEU_2015"
   ]
  },
  {
   "cell_type": "code",
   "execution_count": 5,
   "metadata": {},
   "outputs": [],
   "source": [
    "azdias = special_feature_handler(azdias)\n",
    "customers = special_feature_handler(customers)"
   ]
  },
  {
   "cell_type": "markdown",
   "metadata": {},
   "source": [
    "#### Checking if values were fixed\n",
    "#### Change this cell to code if you want to perform the checks\n",
    "\n",
    "azdias.CAMEO_DEUG_2015.unique()\n",
    "customers.CAMEO_INTL_2015.unique()"
   ]
  },
  {
   "cell_type": "markdown",
   "metadata": {},
   "source": [
    "Considering the appearance of these mixed type data entries I created a function to check the dtype of the different attributes\n",
    "\n",
    "This might be useful in case some attributes have too many category values, which might fragment the data clustering too much."
   ]
  },
  {
   "cell_type": "code",
   "execution_count": 6,
   "metadata": {},
   "outputs": [
    {
     "name": "stdout",
     "output_type": "stream",
     "text": [
      "AGER_TYP                      5\n",
      "ANREDE_KZ                     2\n",
      "CAMEO_DEU_2015               44\n",
      "CAMEO_DEUG_2015               9\n",
      "CJT_GESAMTTYP                 6\n",
      "D19_BANKEN_DATUM             10\n",
      "D19_BANKEN_OFFLINE_DATUM     10\n",
      "D19_BANKEN_ONLINE_DATUM      10\n",
      "D19_GESAMT_DATUM             10\n",
      "D19_GESAMT_OFFLINE_DATUM     10\n",
      "D19_GESAMT_ONLINE_DATUM      10\n",
      "D19_KONSUMTYP                 7\n",
      "D19_TELKO_DATUM              10\n",
      "D19_TELKO_OFFLINE_DATUM      10\n",
      "D19_TELKO_ONLINE_DATUM       10\n",
      "D19_VERSAND_DATUM            10\n",
      "D19_VERSAND_OFFLINE_DATUM    10\n",
      "D19_VERSAND_ONLINE_DATUM     10\n",
      "D19_VERSI_DATUM              10\n",
      "D19_VERSI_OFFLINE_DATUM      10\n",
      "D19_VERSI_ONLINE_DATUM       10\n",
      "FINANZTYP                     6\n",
      "GEBAEUDETYP                   7\n",
      "GFK_URLAUBERTYP              12\n",
      "GREEN_AVANTGARDE              2\n",
      "KBA05_BAUMAX                  6\n",
      "KK_KUNDENTYP                  6\n",
      "LP_FAMILIE_FEIN              12\n",
      "LP_FAMILIE_GROB               6\n",
      "LP_STATUS_FEIN               10\n",
      "LP_STATUS_GROB                5\n",
      "NATIONALITAET_KZ              4\n",
      "OST_WEST_KZ                   2\n",
      "PLZ8_BAUMAX                   5\n",
      "SHOPPER_TYP                   5\n",
      "SOHO_KZ                       2\n",
      "TITEL_KZ                      6\n",
      "VERS_TYP                      3\n",
      "WOHNLAGE                      8\n",
      "ZABEOTYP                      6\n",
      "dtype: int64\n"
     ]
    }
   ],
   "source": [
    "#doing a quick check of categorical features and see if some are too granular to be maintained\n",
    "cat_check = categorical_checker(azdias, attributes)"
   ]
  },
  {
   "cell_type": "markdown",
   "metadata": {},
   "source": [
    "Based on the categorical info it might be a good idea do drop CAMEO_DEU_2015 column, it is far too fragmented with 45 different category values, this is an idea to revisit after testing the models"
   ]
  },
  {
   "cell_type": "markdown",
   "metadata": {},
   "source": [
    "There is an extra column called Unnamed that seems like an index duplication, I will drop it"
   ]
  },
  {
   "cell_type": "markdown",
   "metadata": {},
   "source": [
    "We also have 3 columns that are different between azdias and customers:\n",
    "\n",
    "'CUSTOMER_GROUP', 'ONLINE_PURCHASE', and 'PRODUCT_GROUP'\n",
    "\n",
    "I will drop those to harmonize the 2 datasets"
   ]
  },
  {
   "cell_type": "code",
   "execution_count": 7,
   "metadata": {},
   "outputs": [],
   "source": [
    "customers = customers.drop(['CUSTOMER_GROUP', 'ONLINE_PURCHASE', 'PRODUCT_GROUP'], inplace=False, axis=1)"
   ]
  },
  {
   "cell_type": "markdown",
   "metadata": {},
   "source": [
    "#### I will now check overal shapes of the datasets"
   ]
  },
  {
   "cell_type": "markdown",
   "metadata": {},
   "source": [
    "#### Azdias Shape"
   ]
  },
  {
   "cell_type": "code",
   "execution_count": 8,
   "metadata": {},
   "outputs": [
    {
     "name": "stdout",
     "output_type": "stream",
     "text": [
      "Printing dataframe shape\n",
      "(891221, 366)\n",
      "________________________________________________________\n"
     ]
    },
    {
     "data": {
      "text/html": [
       "<div>\n",
       "<style scoped>\n",
       "    .dataframe tbody tr th:only-of-type {\n",
       "        vertical-align: middle;\n",
       "    }\n",
       "\n",
       "    .dataframe tbody tr th {\n",
       "        vertical-align: top;\n",
       "    }\n",
       "\n",
       "    .dataframe thead th {\n",
       "        text-align: right;\n",
       "    }\n",
       "</style>\n",
       "<table border=\"1\" class=\"dataframe\">\n",
       "  <thead>\n",
       "    <tr style=\"text-align: right;\">\n",
       "      <th></th>\n",
       "      <th>LNR</th>\n",
       "      <th>AGER_TYP</th>\n",
       "      <th>AKT_DAT_KL</th>\n",
       "      <th>ALTER_HH</th>\n",
       "      <th>ALTER_KIND1</th>\n",
       "      <th>ALTER_KIND2</th>\n",
       "      <th>ALTER_KIND3</th>\n",
       "      <th>ALTER_KIND4</th>\n",
       "      <th>ALTERSKATEGORIE_FEIN</th>\n",
       "      <th>ANZ_HAUSHALTE_AKTIV</th>\n",
       "      <th>...</th>\n",
       "      <th>VHN</th>\n",
       "      <th>VK_DHT4A</th>\n",
       "      <th>VK_DISTANZ</th>\n",
       "      <th>VK_ZG11</th>\n",
       "      <th>W_KEIT_KIND_HH</th>\n",
       "      <th>WOHNDAUER_2008</th>\n",
       "      <th>WOHNLAGE</th>\n",
       "      <th>ZABEOTYP</th>\n",
       "      <th>ANREDE_KZ</th>\n",
       "      <th>ALTERSKATEGORIE_GROB</th>\n",
       "    </tr>\n",
       "  </thead>\n",
       "  <tbody>\n",
       "    <tr>\n",
       "      <th>0</th>\n",
       "      <td>910215</td>\n",
       "      <td>-1</td>\n",
       "      <td>NaN</td>\n",
       "      <td>NaN</td>\n",
       "      <td>NaN</td>\n",
       "      <td>NaN</td>\n",
       "      <td>NaN</td>\n",
       "      <td>NaN</td>\n",
       "      <td>NaN</td>\n",
       "      <td>NaN</td>\n",
       "      <td>...</td>\n",
       "      <td>NaN</td>\n",
       "      <td>NaN</td>\n",
       "      <td>NaN</td>\n",
       "      <td>NaN</td>\n",
       "      <td>NaN</td>\n",
       "      <td>NaN</td>\n",
       "      <td>NaN</td>\n",
       "      <td>3</td>\n",
       "      <td>1</td>\n",
       "      <td>2</td>\n",
       "    </tr>\n",
       "    <tr>\n",
       "      <th>1</th>\n",
       "      <td>910220</td>\n",
       "      <td>-1</td>\n",
       "      <td>9.0</td>\n",
       "      <td>0.0</td>\n",
       "      <td>NaN</td>\n",
       "      <td>NaN</td>\n",
       "      <td>NaN</td>\n",
       "      <td>NaN</td>\n",
       "      <td>21.0</td>\n",
       "      <td>11.0</td>\n",
       "      <td>...</td>\n",
       "      <td>4.0</td>\n",
       "      <td>8.0</td>\n",
       "      <td>11.0</td>\n",
       "      <td>10.0</td>\n",
       "      <td>3.0</td>\n",
       "      <td>9.0</td>\n",
       "      <td>4.0</td>\n",
       "      <td>5</td>\n",
       "      <td>2</td>\n",
       "      <td>1</td>\n",
       "    </tr>\n",
       "    <tr>\n",
       "      <th>2</th>\n",
       "      <td>910225</td>\n",
       "      <td>-1</td>\n",
       "      <td>9.0</td>\n",
       "      <td>17.0</td>\n",
       "      <td>NaN</td>\n",
       "      <td>NaN</td>\n",
       "      <td>NaN</td>\n",
       "      <td>NaN</td>\n",
       "      <td>17.0</td>\n",
       "      <td>10.0</td>\n",
       "      <td>...</td>\n",
       "      <td>2.0</td>\n",
       "      <td>9.0</td>\n",
       "      <td>9.0</td>\n",
       "      <td>6.0</td>\n",
       "      <td>3.0</td>\n",
       "      <td>9.0</td>\n",
       "      <td>2.0</td>\n",
       "      <td>5</td>\n",
       "      <td>2</td>\n",
       "      <td>3</td>\n",
       "    </tr>\n",
       "    <tr>\n",
       "      <th>3</th>\n",
       "      <td>910226</td>\n",
       "      <td>2</td>\n",
       "      <td>1.0</td>\n",
       "      <td>13.0</td>\n",
       "      <td>NaN</td>\n",
       "      <td>NaN</td>\n",
       "      <td>NaN</td>\n",
       "      <td>NaN</td>\n",
       "      <td>13.0</td>\n",
       "      <td>1.0</td>\n",
       "      <td>...</td>\n",
       "      <td>0.0</td>\n",
       "      <td>7.0</td>\n",
       "      <td>10.0</td>\n",
       "      <td>11.0</td>\n",
       "      <td>NaN</td>\n",
       "      <td>9.0</td>\n",
       "      <td>7.0</td>\n",
       "      <td>3</td>\n",
       "      <td>2</td>\n",
       "      <td>4</td>\n",
       "    </tr>\n",
       "    <tr>\n",
       "      <th>4</th>\n",
       "      <td>910241</td>\n",
       "      <td>-1</td>\n",
       "      <td>1.0</td>\n",
       "      <td>20.0</td>\n",
       "      <td>NaN</td>\n",
       "      <td>NaN</td>\n",
       "      <td>NaN</td>\n",
       "      <td>NaN</td>\n",
       "      <td>14.0</td>\n",
       "      <td>3.0</td>\n",
       "      <td>...</td>\n",
       "      <td>2.0</td>\n",
       "      <td>3.0</td>\n",
       "      <td>5.0</td>\n",
       "      <td>4.0</td>\n",
       "      <td>2.0</td>\n",
       "      <td>9.0</td>\n",
       "      <td>3.0</td>\n",
       "      <td>4</td>\n",
       "      <td>1</td>\n",
       "      <td>3</td>\n",
       "    </tr>\n",
       "  </tbody>\n",
       "</table>\n",
       "<p>5 rows × 366 columns</p>\n",
       "</div>"
      ],
      "text/plain": [
       "      LNR  AGER_TYP  AKT_DAT_KL  ALTER_HH  ALTER_KIND1  ALTER_KIND2  \\\n",
       "0  910215        -1         NaN       NaN          NaN          NaN   \n",
       "1  910220        -1         9.0       0.0          NaN          NaN   \n",
       "2  910225        -1         9.0      17.0          NaN          NaN   \n",
       "3  910226         2         1.0      13.0          NaN          NaN   \n",
       "4  910241        -1         1.0      20.0          NaN          NaN   \n",
       "\n",
       "   ALTER_KIND3  ALTER_KIND4  ALTERSKATEGORIE_FEIN  ANZ_HAUSHALTE_AKTIV  ...  \\\n",
       "0          NaN          NaN                   NaN                  NaN  ...   \n",
       "1          NaN          NaN                  21.0                 11.0  ...   \n",
       "2          NaN          NaN                  17.0                 10.0  ...   \n",
       "3          NaN          NaN                  13.0                  1.0  ...   \n",
       "4          NaN          NaN                  14.0                  3.0  ...   \n",
       "\n",
       "   VHN  VK_DHT4A  VK_DISTANZ  VK_ZG11  W_KEIT_KIND_HH  WOHNDAUER_2008  \\\n",
       "0  NaN       NaN         NaN      NaN             NaN             NaN   \n",
       "1  4.0       8.0        11.0     10.0             3.0             9.0   \n",
       "2  2.0       9.0         9.0      6.0             3.0             9.0   \n",
       "3  0.0       7.0        10.0     11.0             NaN             9.0   \n",
       "4  2.0       3.0         5.0      4.0             2.0             9.0   \n",
       "\n",
       "   WOHNLAGE  ZABEOTYP  ANREDE_KZ  ALTERSKATEGORIE_GROB  \n",
       "0       NaN         3          1                     2  \n",
       "1       4.0         5          2                     1  \n",
       "2       2.0         5          2                     3  \n",
       "3       7.0         3          2                     4  \n",
       "4       3.0         4          1                     3  \n",
       "\n",
       "[5 rows x 366 columns]"
      ]
     },
     "execution_count": 8,
     "metadata": {},
     "output_type": "execute_result"
    }
   ],
   "source": [
    "# checking how the azdias dataframe looks like\n",
    "print('Printing dataframe shape')\n",
    "print(azdias.shape)\n",
    "print('________________________________________________________')\n",
    "\n",
    "azdias.head()"
   ]
  },
  {
   "cell_type": "markdown",
   "metadata": {},
   "source": [
    "#### Customers Shape"
   ]
  },
  {
   "cell_type": "code",
   "execution_count": 9,
   "metadata": {},
   "outputs": [
    {
     "name": "stdout",
     "output_type": "stream",
     "text": [
      "Printing dataframe shape\n",
      "(191652, 366)\n",
      "________________________________________________________\n"
     ]
    },
    {
     "data": {
      "text/html": [
       "<div>\n",
       "<style scoped>\n",
       "    .dataframe tbody tr th:only-of-type {\n",
       "        vertical-align: middle;\n",
       "    }\n",
       "\n",
       "    .dataframe tbody tr th {\n",
       "        vertical-align: top;\n",
       "    }\n",
       "\n",
       "    .dataframe thead th {\n",
       "        text-align: right;\n",
       "    }\n",
       "</style>\n",
       "<table border=\"1\" class=\"dataframe\">\n",
       "  <thead>\n",
       "    <tr style=\"text-align: right;\">\n",
       "      <th></th>\n",
       "      <th>LNR</th>\n",
       "      <th>AGER_TYP</th>\n",
       "      <th>AKT_DAT_KL</th>\n",
       "      <th>ALTER_HH</th>\n",
       "      <th>ALTER_KIND1</th>\n",
       "      <th>ALTER_KIND2</th>\n",
       "      <th>ALTER_KIND3</th>\n",
       "      <th>ALTER_KIND4</th>\n",
       "      <th>ALTERSKATEGORIE_FEIN</th>\n",
       "      <th>ANZ_HAUSHALTE_AKTIV</th>\n",
       "      <th>...</th>\n",
       "      <th>VHN</th>\n",
       "      <th>VK_DHT4A</th>\n",
       "      <th>VK_DISTANZ</th>\n",
       "      <th>VK_ZG11</th>\n",
       "      <th>W_KEIT_KIND_HH</th>\n",
       "      <th>WOHNDAUER_2008</th>\n",
       "      <th>WOHNLAGE</th>\n",
       "      <th>ZABEOTYP</th>\n",
       "      <th>ANREDE_KZ</th>\n",
       "      <th>ALTERSKATEGORIE_GROB</th>\n",
       "    </tr>\n",
       "  </thead>\n",
       "  <tbody>\n",
       "    <tr>\n",
       "      <th>0</th>\n",
       "      <td>9626</td>\n",
       "      <td>2</td>\n",
       "      <td>1.0</td>\n",
       "      <td>10.0</td>\n",
       "      <td>NaN</td>\n",
       "      <td>NaN</td>\n",
       "      <td>NaN</td>\n",
       "      <td>NaN</td>\n",
       "      <td>10.0</td>\n",
       "      <td>1.0</td>\n",
       "      <td>...</td>\n",
       "      <td>3.0</td>\n",
       "      <td>5.0</td>\n",
       "      <td>3.0</td>\n",
       "      <td>2.0</td>\n",
       "      <td>6.0</td>\n",
       "      <td>9.0</td>\n",
       "      <td>7.0</td>\n",
       "      <td>3</td>\n",
       "      <td>1</td>\n",
       "      <td>4</td>\n",
       "    </tr>\n",
       "    <tr>\n",
       "      <th>1</th>\n",
       "      <td>9628</td>\n",
       "      <td>-1</td>\n",
       "      <td>9.0</td>\n",
       "      <td>11.0</td>\n",
       "      <td>NaN</td>\n",
       "      <td>NaN</td>\n",
       "      <td>NaN</td>\n",
       "      <td>NaN</td>\n",
       "      <td>NaN</td>\n",
       "      <td>NaN</td>\n",
       "      <td>...</td>\n",
       "      <td>NaN</td>\n",
       "      <td>6.0</td>\n",
       "      <td>6.0</td>\n",
       "      <td>3.0</td>\n",
       "      <td>0.0</td>\n",
       "      <td>9.0</td>\n",
       "      <td>NaN</td>\n",
       "      <td>3</td>\n",
       "      <td>1</td>\n",
       "      <td>4</td>\n",
       "    </tr>\n",
       "    <tr>\n",
       "      <th>2</th>\n",
       "      <td>143872</td>\n",
       "      <td>-1</td>\n",
       "      <td>1.0</td>\n",
       "      <td>6.0</td>\n",
       "      <td>NaN</td>\n",
       "      <td>NaN</td>\n",
       "      <td>NaN</td>\n",
       "      <td>NaN</td>\n",
       "      <td>0.0</td>\n",
       "      <td>1.0</td>\n",
       "      <td>...</td>\n",
       "      <td>4.0</td>\n",
       "      <td>10.0</td>\n",
       "      <td>13.0</td>\n",
       "      <td>11.0</td>\n",
       "      <td>6.0</td>\n",
       "      <td>9.0</td>\n",
       "      <td>2.0</td>\n",
       "      <td>3</td>\n",
       "      <td>2</td>\n",
       "      <td>4</td>\n",
       "    </tr>\n",
       "    <tr>\n",
       "      <th>3</th>\n",
       "      <td>143873</td>\n",
       "      <td>1</td>\n",
       "      <td>1.0</td>\n",
       "      <td>8.0</td>\n",
       "      <td>NaN</td>\n",
       "      <td>NaN</td>\n",
       "      <td>NaN</td>\n",
       "      <td>NaN</td>\n",
       "      <td>8.0</td>\n",
       "      <td>0.0</td>\n",
       "      <td>...</td>\n",
       "      <td>2.0</td>\n",
       "      <td>6.0</td>\n",
       "      <td>4.0</td>\n",
       "      <td>2.0</td>\n",
       "      <td>NaN</td>\n",
       "      <td>9.0</td>\n",
       "      <td>7.0</td>\n",
       "      <td>1</td>\n",
       "      <td>1</td>\n",
       "      <td>4</td>\n",
       "    </tr>\n",
       "    <tr>\n",
       "      <th>4</th>\n",
       "      <td>143874</td>\n",
       "      <td>-1</td>\n",
       "      <td>1.0</td>\n",
       "      <td>20.0</td>\n",
       "      <td>NaN</td>\n",
       "      <td>NaN</td>\n",
       "      <td>NaN</td>\n",
       "      <td>NaN</td>\n",
       "      <td>14.0</td>\n",
       "      <td>7.0</td>\n",
       "      <td>...</td>\n",
       "      <td>4.0</td>\n",
       "      <td>3.0</td>\n",
       "      <td>5.0</td>\n",
       "      <td>4.0</td>\n",
       "      <td>2.0</td>\n",
       "      <td>9.0</td>\n",
       "      <td>3.0</td>\n",
       "      <td>1</td>\n",
       "      <td>1</td>\n",
       "      <td>3</td>\n",
       "    </tr>\n",
       "  </tbody>\n",
       "</table>\n",
       "<p>5 rows × 366 columns</p>\n",
       "</div>"
      ],
      "text/plain": [
       "      LNR  AGER_TYP  AKT_DAT_KL  ALTER_HH  ALTER_KIND1  ALTER_KIND2  \\\n",
       "0    9626         2         1.0      10.0          NaN          NaN   \n",
       "1    9628        -1         9.0      11.0          NaN          NaN   \n",
       "2  143872        -1         1.0       6.0          NaN          NaN   \n",
       "3  143873         1         1.0       8.0          NaN          NaN   \n",
       "4  143874        -1         1.0      20.0          NaN          NaN   \n",
       "\n",
       "   ALTER_KIND3  ALTER_KIND4  ALTERSKATEGORIE_FEIN  ANZ_HAUSHALTE_AKTIV  ...  \\\n",
       "0          NaN          NaN                  10.0                  1.0  ...   \n",
       "1          NaN          NaN                   NaN                  NaN  ...   \n",
       "2          NaN          NaN                   0.0                  1.0  ...   \n",
       "3          NaN          NaN                   8.0                  0.0  ...   \n",
       "4          NaN          NaN                  14.0                  7.0  ...   \n",
       "\n",
       "   VHN  VK_DHT4A  VK_DISTANZ  VK_ZG11  W_KEIT_KIND_HH  WOHNDAUER_2008  \\\n",
       "0  3.0       5.0         3.0      2.0             6.0             9.0   \n",
       "1  NaN       6.0         6.0      3.0             0.0             9.0   \n",
       "2  4.0      10.0        13.0     11.0             6.0             9.0   \n",
       "3  2.0       6.0         4.0      2.0             NaN             9.0   \n",
       "4  4.0       3.0         5.0      4.0             2.0             9.0   \n",
       "\n",
       "   WOHNLAGE  ZABEOTYP  ANREDE_KZ  ALTERSKATEGORIE_GROB  \n",
       "0       7.0         3          1                     4  \n",
       "1       NaN         3          1                     4  \n",
       "2       2.0         3          2                     4  \n",
       "3       7.0         1          1                     4  \n",
       "4       3.0         1          1                     3  \n",
       "\n",
       "[5 rows x 366 columns]"
      ]
     },
     "execution_count": 9,
     "metadata": {},
     "output_type": "execute_result"
    }
   ],
   "source": [
    "# checking how the customer dataframe looks like\n",
    "print('Printing dataframe shape')\n",
    "print(customers.shape)\n",
    "print('________________________________________________________')\n",
    "\n",
    "customers.head()"
   ]
  },
  {
   "cell_type": "markdown",
   "metadata": {},
   "source": [
    "#### Attributes shape"
   ]
  },
  {
   "cell_type": "code",
   "execution_count": 10,
   "metadata": {},
   "outputs": [
    {
     "name": "stdout",
     "output_type": "stream",
     "text": [
      "(332, 5)\n"
     ]
    },
    {
     "data": {
      "text/html": [
       "<div>\n",
       "<style scoped>\n",
       "    .dataframe tbody tr th:only-of-type {\n",
       "        vertical-align: middle;\n",
       "    }\n",
       "\n",
       "    .dataframe tbody tr th {\n",
       "        vertical-align: top;\n",
       "    }\n",
       "\n",
       "    .dataframe thead th {\n",
       "        text-align: right;\n",
       "    }\n",
       "</style>\n",
       "<table border=\"1\" class=\"dataframe\">\n",
       "  <thead>\n",
       "    <tr style=\"text-align: right;\">\n",
       "      <th></th>\n",
       "      <th>attribute</th>\n",
       "      <th>information_level</th>\n",
       "      <th>type</th>\n",
       "      <th>missing_or_unknown</th>\n",
       "      <th>Comment</th>\n",
       "    </tr>\n",
       "  </thead>\n",
       "  <tbody>\n",
       "    <tr>\n",
       "      <th>0</th>\n",
       "      <td>AGER_TYP</td>\n",
       "      <td>person</td>\n",
       "      <td>categorical</td>\n",
       "      <td>[-1,0]</td>\n",
       "      <td>NaN</td>\n",
       "    </tr>\n",
       "    <tr>\n",
       "      <th>1</th>\n",
       "      <td>ALTER_HH</td>\n",
       "      <td>household</td>\n",
       "      <td>interval</td>\n",
       "      <td>[0]</td>\n",
       "      <td>NaN</td>\n",
       "    </tr>\n",
       "    <tr>\n",
       "      <th>2</th>\n",
       "      <td>ALTERSKATEGORIE_GROB</td>\n",
       "      <td>person</td>\n",
       "      <td>ordinal</td>\n",
       "      <td>[-1,0,9]</td>\n",
       "      <td>NaN</td>\n",
       "    </tr>\n",
       "    <tr>\n",
       "      <th>3</th>\n",
       "      <td>ANREDE_KZ</td>\n",
       "      <td>person</td>\n",
       "      <td>categorical</td>\n",
       "      <td>[-1,0]</td>\n",
       "      <td>NaN</td>\n",
       "    </tr>\n",
       "    <tr>\n",
       "      <th>4</th>\n",
       "      <td>ANZ_HAUSHALTE_AKTIV</td>\n",
       "      <td>building</td>\n",
       "      <td>numeric</td>\n",
       "      <td>[0]</td>\n",
       "      <td>NaN</td>\n",
       "    </tr>\n",
       "  </tbody>\n",
       "</table>\n",
       "</div>"
      ],
      "text/plain": [
       "              attribute information_level         type missing_or_unknown  \\\n",
       "0              AGER_TYP            person  categorical             [-1,0]   \n",
       "1              ALTER_HH         household     interval                [0]   \n",
       "2  ALTERSKATEGORIE_GROB            person      ordinal           [-1,0,9]   \n",
       "3             ANREDE_KZ            person  categorical             [-1,0]   \n",
       "4   ANZ_HAUSHALTE_AKTIV          building      numeric                [0]   \n",
       "\n",
       "  Comment  \n",
       "0     NaN  \n",
       "1     NaN  \n",
       "2     NaN  \n",
       "3     NaN  \n",
       "4     NaN  "
      ]
     },
     "execution_count": 10,
     "metadata": {},
     "output_type": "execute_result"
    }
   ],
   "source": [
    "# Check the summary csv file\n",
    "print(attributes.shape)\n",
    "attributes.head()"
   ]
  },
  {
   "cell_type": "markdown",
   "metadata": {},
   "source": [
    "### On the dataframe shapes:\n",
    "\n",
    "#### For now it is noted that the 2 initial working dataframes are harmonized in terms of  number of columns:\n",
    "#### azdias: (891221, 366)\n",
    "#### customers: (191652, 366)\n",
    "#### attributes: (332, 5)"
   ]
  },
  {
   "cell_type": "code",
   "execution_count": 11,
   "metadata": {},
   "outputs": [],
   "source": [
    "#saving the unique attribute names to lists\n",
    "attributes_list = attributes.attribute.unique().tolist()\n",
    "azdias_list = list(azdias.columns)\n",
    "customers_list = list(customers.columns)"
   ]
  },
  {
   "cell_type": "code",
   "execution_count": 12,
   "metadata": {},
   "outputs": [
    {
     "name": "stdout",
     "output_type": "stream",
     "text": [
      "No of items common to all 3 daframes: 327\n",
      "No of items exclusive to azdias: 0\n",
      "No of items exclusive to customers: 0\n",
      "No of items exclusive to attributes: 5\n",
      "No of items overlapping between azdias and attributes: 327\n",
      "No of items exclusive to attributes vs azdias: 5\n",
      "No of items exclusive to azdias vs attributes: 5\n"
     ]
    }
   ],
   "source": [
    "#establishing uniqueness of the attributes accross the datasets in work\n",
    "common_to_all = (set(attributes_list) & set(azdias_list) & set(customers_list))\n",
    "unique_to_azdias = (set(azdias_list) - set(attributes_list) - set(customers_list))\n",
    "unique_to_customers = (set(customers_list) - set(attributes_list) - set(azdias_list))\n",
    "unique_to_attributes = (set(attributes_list) - set(customers_list) - set(azdias_list))\n",
    "unique_to_attributes_vs_azdias = (set(attributes_list) - set(azdias_list))\n",
    "unique_to_azdias_vs_attributes = (set(attributes_list) - set(azdias_list))\n",
    "common_azdias_attributes = (set(azdias_list) & set(attributes_list))\n",
    "\n",
    "print(\"No of items common to all 3 daframes: \" + str(len(common_to_all)))\n",
    "print(\"No of items exclusive to azdias: \" + str(len(unique_to_azdias)))\n",
    "print(\"No of items exclusive to customers: \" + str(len(unique_to_customers)))\n",
    "print(\"No of items exclusive to attributes: \" + str(len(unique_to_attributes)))\n",
    "print(\"No of items overlapping between azdias and attributes: \" + str(len(common_azdias_attributes)))\n",
    "print(\"No of items exclusive to attributes vs azdias: \" + str(len(unique_to_attributes_vs_azdias)))\n",
    "print(\"No of items exclusive to azdias vs attributes: \" + str(len(unique_to_azdias_vs_attributes)))"
   ]
  },
  {
   "cell_type": "code",
   "execution_count": 13,
   "metadata": {},
   "outputs": [
    {
     "data": {
      "image/png": "[encoded data removed]",
      "text/plain": [
       "<Figure size 576x576 with 1 Axes>"
      ]
     },
     "metadata": {},
     "output_type": "display_data"
    }
   ],
   "source": [
    "rcParams['figure.figsize'] = 8, 8\n",
    "\n",
    "ax = plt.axes()\n",
    "ax.set_facecolor('lightgrey')\n",
    "v = venn2([len(azdias_list), len(attributes_list), len(common_azdias_attributes)], \n",
    "      set_labels=('Azdias', 'Attributes'),\n",
    "         set_colors = ['cyan', 'grey']);\n",
    "\n",
    "plt.title(\"Attribute presence on Azdias vs DIAS Attributes \")\n",
    "plt.show()"
   ]
  },
  {
   "cell_type": "markdown",
   "metadata": {},
   "source": [
    "### From this little exploration we got quite a little bit of information:\n",
    "- There are 3 extra features in the customers dataset, it corresponds to the columns 'CUSTOMER_GROUP', 'ONLINE_PURCHASE', and 'PRODUCT_GROUP'\n",
    "\n",
    "- All the datasets share 327 features between them\n",
    "\n",
    "- The attributes file has 5 columns corresponding to feature information that does not exist in the other datasets"
   ]
  },
  {
   "cell_type": "markdown",
   "metadata": {},
   "source": [
    "## Preprocessing\n",
    "Now that I have a birds-eye view of the data I will proceed with cleaning and handling missing calues, re-encode features (since the first portion of this project will involve unsupervised learning), perform some feature enginnering and scaling.\n",
    "Assessing missing data and replacing it with nan.\n",
    "I will also decide on which strategy to use before scaling features:\n",
    "-remove nulls -> scalling -> put nulls back \n",
    "or\n",
    "-remove nulls -> scalling -> impute"
   ]
  },
  {
   "cell_type": "code",
   "execution_count": 14,
   "metadata": {},
   "outputs": [],
   "source": [
    "azdias_pre_cleanup = azdias.copy()\n",
    "customers_pre_cleanup = customers.copy()"
   ]
  },
  {
   "cell_type": "code",
   "execution_count": 15,
   "metadata": {},
   "outputs": [],
   "source": [
    "unknowns_to_NANs(azdias, dias_xls)"
   ]
  },
  {
   "cell_type": "code",
   "execution_count": 16,
   "metadata": {},
   "outputs": [],
   "source": [
    "unknowns_to_NANs(customers, dias_xls)"
   ]
  },
  {
   "cell_type": "markdown",
   "metadata": {},
   "source": [
    "Since the next step involves dropping columns missing data over a threshold it is important to check if there is a column match between azdias and customers before and after the cleanup process\n",
    "\n",
    "There is a chance that some columns are missing too much data in one dataframe and being dropped while they are abundant in the other, causing a discrepancy in the shape between the 2 dataframes\n",
    "\n",
    "It is always hard to define a threshold on how much missing data is too much, my first approach will consider over 30% too much\n",
    "\n",
    "Based on model performance this is an idea to revisit and adjust"
   ]
  },
  {
   "cell_type": "code",
   "execution_count": 17,
   "metadata": {},
   "outputs": [
    {
     "name": "stdout",
     "output_type": "stream",
     "text": [
      "Feature balance between dfs?:  True\n"
     ]
    }
   ],
   "source": [
    "balance_checker(azdias, customers)"
   ]
  },
  {
   "cell_type": "markdown",
   "metadata": {},
   "source": [
    "#### Prior to cleanup customers and azdias match"
   ]
  },
  {
   "cell_type": "code",
   "execution_count": 18,
   "metadata": {},
   "outputs": [],
   "source": [
    "percent_missing_azdias_df = percentage_of_missing(azdias)\n",
    "percent_missing_azdias_pc_df = percentage_of_missing(azdias_pre_cleanup)\n",
    "\n",
    "percent_missing_customers_df = percentage_of_missing(customers)\n",
    "percent_missing_customers_pc_df = percentage_of_missing(customers_pre_cleanup)"
   ]
  },
  {
   "cell_type": "code",
   "execution_count": 19,
   "metadata": {},
   "outputs": [
    {
     "name": "stdout",
     "output_type": "stream",
     "text": [
      "Identified missing data in Azdias: \n",
      "Pre-cleanup: 33394690 Post_cleanup: 36989284\n",
      "Identified missing data in Customers: \n",
      "Pre-cleanup: 13814346 Post_cleanup: 14438293\n"
     ]
    }
   ],
   "source": [
    "print('Identified missing data in Azdias: ')\n",
    "print('Pre-cleanup: ' + str(azdias_pre_cleanup.isnull().sum().sum()) + ' Post_cleanup: ' + str(azdias.isnull().sum().sum()))\n",
    "\n",
    "print('Identified missing data in Customers: ')\n",
    "print('Pre-cleanup: ' + str(customers_pre_cleanup.isnull().sum().sum()) + ' Post_cleanup: ' + str(customers.isnull().sum().sum()))"
   ]
  },
  {
   "cell_type": "code",
   "execution_count": 20,
   "metadata": {},
   "outputs": [
    {
     "name": "stdout",
     "output_type": "stream",
     "text": [
      "Azdias columns not missing values(percentage):\n",
      "Pre-cleanup:  88\n",
      "Post-cleanup:  94\n",
      "Customers columns not missing values(percentage):\n",
      "Pre-cleanup:  88\n",
      "Post-cleanup:  94\n"
     ]
    }
   ],
   "source": [
    "print('Azdias columns not missing values(percentage):')\n",
    "print('Pre-cleanup: ', (percent_missing_azdias_df['percent_missing'] == 0.0).sum())\n",
    "print('Post-cleanup: ', (percent_missing_azdias_pc_df['percent_missing'] == 0.0).sum())\n",
    "\n",
    "print('Customers columns not missing values(percentage):')\n",
    "print('Pre-cleanup: ', (percent_missing_customers_df['percent_missing'] == 0.0).sum())\n",
    "print('Post-cleanup: ', (percent_missing_customers_pc_df['percent_missing'] == 0.0).sum())"
   ]
  },
  {
   "cell_type": "markdown",
   "metadata": {},
   "source": [
    "#### Deciding on what data to maintain based on the percentage missing"
   ]
  },
  {
   "cell_type": "code",
   "execution_count": 21,
   "metadata": {},
   "outputs": [],
   "source": [
    "# missing more or less than 30% of the data\n",
    "azdias_missing_over_30 = split_on_percentage(percent_missing_azdias_df, 30, '>')\n",
    "azdias_missing_less_30 = split_on_percentage(percent_missing_azdias_df, 30, '<=')\n",
    "\n",
    "customers_missing_over_30 = split_on_percentage(percent_missing_customers_df, 30, '>')\n",
    "customers_missing_less_30 = split_on_percentage(percent_missing_customers_df, 30, '<=')"
   ]
  },
  {
   "cell_type": "code",
   "execution_count": 22,
   "metadata": {},
   "outputs": [
    {
     "data": {
      "image/png": "[encoded data removed]",
      "text/plain": [
       "<Figure size 1080x1080 with 4 Axes>"
      ]
     },
     "metadata": {
      "needs_background": "light"
     },
     "output_type": "display_data"
    }
   ],
   "source": [
    "#plotting select features and their missing data percentages\n",
    "figure, axes = plt.subplots(4, 1, figsize = (15,15), squeeze = False)\n",
    "\n",
    "azdias_missing_over_30.sort_values(by = 'percent_missing', ascending = False).plot(kind = 'bar', x = 'column_name', y = 'percent_missing',\n",
    "                                                                                ax = axes[0][0], color = 'red', title = 'Azdias percentage of missing values over 30%' )\n",
    "\n",
    "#due to the sheer amount of data points to be plotted this does not make an appealing vis so I will restrict\n",
    "#the number of plotted points to 40\n",
    "azdias_missing_less_30.sort_values(by = 'percent_missing', ascending = False)[:40].plot(kind = 'bar', x = 'column_name', y = 'percent_missing',\n",
    "                                                                                ax = axes[1][0], title = 'Azdias percentage of missing values less 30%' )\n",
    "\n",
    "customers_missing_over_30.sort_values(by = 'percent_missing', ascending = False).plot(kind = 'bar', x = 'column_name', y = 'percent_missing',\n",
    "                                                                                ax = axes[2][0], color = 'red', title = 'Customers percentage of missing values over 30%' )\n",
    "\n",
    "#due to the sheer amount of data points to be plotted this does not make an appealing vis so I will restrict\n",
    "#the number of plotted points to 40\n",
    "customers_missing_less_30.sort_values(by = 'percent_missing', ascending = False)[:40].plot(kind = 'bar', x = 'column_name', y = 'percent_missing',\n",
    "                                                                                ax = axes[3][0], title = 'Customers percentage of missing values less 30%' )\n",
    "\n",
    "plt.tight_layout()\n",
    "plt.show()"
   ]
  },
  {
   "cell_type": "markdown",
   "metadata": {},
   "source": [
    "### The vast majority of the columns with missing values have a percent of missing under 30%\n",
    "### Based on this information I will remove columns with more than 30% missing values"
   ]
  },
  {
   "cell_type": "code",
   "execution_count": 23,
   "metadata": {},
   "outputs": [],
   "source": [
    "#extracting column names with more than 30% values missing so we can drop them from azdias df\n",
    "azdias_col_delete = columns_to_delete(azdias_missing_over_30)\n",
    "\n",
    "#extracting column names with more than 30% values missing so we can drop them from customers df\n",
    "customers_col_delete = columns_to_delete(customers_missing_over_30)"
   ]
  },
  {
   "cell_type": "code",
   "execution_count": 24,
   "metadata": {},
   "outputs": [],
   "source": [
    "#dropping the columns identified in the previous lists\n",
    "\n",
    "azdias = azdias.drop(azdias_col_delete, axis = 1)\n",
    "customers = customers.drop(customers_col_delete, axis = 1)"
   ]
  },
  {
   "cell_type": "code",
   "execution_count": 25,
   "metadata": {},
   "outputs": [
    {
     "name": "stdout",
     "output_type": "stream",
     "text": [
      "Feature balance between dfs?:  False\n",
      "Your first argument df differs from the second on the following columns: \n",
      "{'REGIOTYP', 'KKK'}\n",
      "Your second argument df differs from the first on the following columns: \n",
      "set()\n"
     ]
    }
   ],
   "source": [
    "#since I just dropped several columns I will do another balance check\n",
    "balance_checker(azdias, customers)"
   ]
  },
  {
   "cell_type": "markdown",
   "metadata": {},
   "source": [
    "### Now that we dropped columns missing more than 30% of their data let's check if we should also drop rows based on a particular threshold"
   ]
  },
  {
   "cell_type": "code",
   "execution_count": 26,
   "metadata": {},
   "outputs": [
    {
     "data": {
      "image/png": "[encoded data removed]",
      "text/plain": [
       "<Figure size 576x576 with 1 Axes>"
      ]
     },
     "metadata": {
      "needs_background": "light"
     },
     "output_type": "display_data"
    }
   ],
   "source": [
    "#plotting distribution of null values\n",
    "row_hist(azdias, customers, 30)"
   ]
  },
  {
   "cell_type": "markdown",
   "metadata": {},
   "source": [
    "#### Based on this visualization we deduct 2 things\n",
    "##### - most of the rows have less than 100 missing values \n",
    "##### - both customer and azdias have probably overlapping rows in which they are missing the same info "
   ]
  },
  {
   "cell_type": "code",
   "execution_count": 27,
   "metadata": {},
   "outputs": [],
   "source": [
    "#deleting rows based on the information acquired in the previous histogram \n",
    "azdias = row_dropper(azdias, 100)\n",
    "customers = row_dropper(customers, 100)"
   ]
  },
  {
   "cell_type": "code",
   "execution_count": 28,
   "metadata": {},
   "outputs": [
    {
     "data": {
      "image/png": "[encoded data removed]",
      "text/plain": [
       "<Figure size 576x576 with 1 Axes>"
      ]
     },
     "metadata": {
      "needs_background": "light"
     },
     "output_type": "display_data"
    }
   ],
   "source": [
    "#plotting null values distribution after cleanup\n",
    "row_hist(azdias, customers, 30)"
   ]
  },
  {
   "cell_type": "code",
   "execution_count": 29,
   "metadata": {},
   "outputs": [
    {
     "name": "stdout",
     "output_type": "stream",
     "text": [
      "Feature balance between dfs?:  False\n",
      "Your first argument df differs from the second on the following columns: \n",
      "{'REGIOTYP', 'KKK'}\n",
      "Your second argument df differs from the first on the following columns: \n",
      "set()\n"
     ]
    }
   ],
   "source": [
    "balance_checker(azdias, customers)"
   ]
  },
  {
   "cell_type": "markdown",
   "metadata": {},
   "source": [
    "Based on this information the azdias df has a few columns extra when compared to customers:\n",
    "- {'REGIOTYP', 'KKK'}\n",
    "-  These colummns refer to information on the purchasing power, unfortunate to lose these since it is powerfull information\n",
    "\n",
    "So to finalize this step I will drop these columns"
   ]
  },
  {
   "cell_type": "code",
   "execution_count": 30,
   "metadata": {},
   "outputs": [],
   "source": [
    "azdias = azdias.drop(['REGIOTYP', 'KKK'], inplace=False, axis=1)"
   ]
  },
  {
   "cell_type": "code",
   "execution_count": 31,
   "metadata": {},
   "outputs": [
    {
     "name": "stdout",
     "output_type": "stream",
     "text": [
      "Feature balance between dfs?:  True\n"
     ]
    }
   ],
   "source": [
    "balance_checker(azdias, customers)"
   ]
  },
  {
   "cell_type": "markdown",
   "metadata": {},
   "source": [
    "## Feature Encoding\n",
    "\n",
    "### Like I previously checked using the categorical_checker there are many features in need of re-encoding for the unsupervised learning portion \n",
    "\n",
    "- numerical features will be kept as is\n",
    "- ordinal features will be kept as is\n",
    "- categorical features and mixed type features will have to be re-encoded (label or dummies)"
   ]
  },
  {
   "cell_type": "code",
   "execution_count": 32,
   "metadata": {},
   "outputs": [
    {
     "data": {
      "text/html": [
       "<div>\n",
       "<style scoped>\n",
       "    .dataframe tbody tr th:only-of-type {\n",
       "        vertical-align: middle;\n",
       "    }\n",
       "\n",
       "    .dataframe tbody tr th {\n",
       "        vertical-align: top;\n",
       "    }\n",
       "\n",
       "    .dataframe thead th {\n",
       "        text-align: right;\n",
       "    }\n",
       "</style>\n",
       "<table border=\"1\" class=\"dataframe\">\n",
       "  <thead>\n",
       "    <tr style=\"text-align: right;\">\n",
       "      <th></th>\n",
       "      <th>attribute</th>\n",
       "      <th>information_level</th>\n",
       "      <th>type</th>\n",
       "      <th>missing_or_unknown</th>\n",
       "      <th>Comment</th>\n",
       "    </tr>\n",
       "  </thead>\n",
       "  <tbody>\n",
       "    <tr>\n",
       "      <th>15</th>\n",
       "      <td>CAMEO_INTL_2015</td>\n",
       "      <td>microcell_rr4</td>\n",
       "      <td>mixed</td>\n",
       "      <td>[-1,XX]</td>\n",
       "      <td>NaN</td>\n",
       "    </tr>\n",
       "    <tr>\n",
       "      <th>286</th>\n",
       "      <td>LP_LEBENSPHASE_FEIN</td>\n",
       "      <td>person</td>\n",
       "      <td>mixed</td>\n",
       "      <td>[0]</td>\n",
       "      <td>NaN</td>\n",
       "    </tr>\n",
       "    <tr>\n",
       "      <th>287</th>\n",
       "      <td>LP_LEBENSPHASE_GROB</td>\n",
       "      <td>person</td>\n",
       "      <td>mixed</td>\n",
       "      <td>[0]</td>\n",
       "      <td>NaN</td>\n",
       "    </tr>\n",
       "    <tr>\n",
       "      <th>303</th>\n",
       "      <td>PRAEGENDE_JUGENDJAHRE</td>\n",
       "      <td>person</td>\n",
       "      <td>mixed</td>\n",
       "      <td>[-1,0]</td>\n",
       "      <td>NaN</td>\n",
       "    </tr>\n",
       "  </tbody>\n",
       "</table>\n",
       "</div>"
      ],
      "text/plain": [
       "                 attribute information_level   type missing_or_unknown Comment\n",
       "15         CAMEO_INTL_2015     microcell_rr4  mixed            [-1,XX]     NaN\n",
       "286    LP_LEBENSPHASE_FEIN            person  mixed                [0]     NaN\n",
       "287    LP_LEBENSPHASE_GROB            person  mixed                [0]     NaN\n",
       "303  PRAEGENDE_JUGENDJAHRE            person  mixed             [-1,0]     NaN"
      ]
     },
     "execution_count": 32,
     "metadata": {},
     "output_type": "execute_result"
    }
   ],
   "source": [
    "#checking for mixed type features\n",
    "attributes[attributes.type == 'mixed']"
   ]
  },
  {
   "cell_type": "code",
   "execution_count": 33,
   "metadata": {},
   "outputs": [
    {
     "data": {
      "text/plain": [
       "['AGER_TYP',\n",
       " 'ANREDE_KZ',\n",
       " 'CAMEO_DEU_2015',\n",
       " 'CAMEO_DEUG_2015',\n",
       " 'CJT_GESAMTTYP',\n",
       " 'D19_BANKEN_DATUM',\n",
       " 'D19_BANKEN_OFFLINE_DATUM',\n",
       " 'D19_BANKEN_ONLINE_DATUM',\n",
       " 'D19_GESAMT_DATUM',\n",
       " 'D19_GESAMT_OFFLINE_DATUM',\n",
       " 'D19_GESAMT_ONLINE_DATUM',\n",
       " 'D19_KONSUMTYP',\n",
       " 'D19_TELKO_DATUM',\n",
       " 'D19_TELKO_OFFLINE_DATUM',\n",
       " 'D19_TELKO_ONLINE_DATUM',\n",
       " 'D19_VERSAND_DATUM',\n",
       " 'D19_VERSAND_OFFLINE_DATUM',\n",
       " 'D19_VERSAND_ONLINE_DATUM',\n",
       " 'D19_VERSI_DATUM',\n",
       " 'D19_VERSI_OFFLINE_DATUM',\n",
       " 'D19_VERSI_ONLINE_DATUM',\n",
       " 'FINANZTYP',\n",
       " 'GEBAEUDETYP',\n",
       " 'GFK_URLAUBERTYP',\n",
       " 'GREEN_AVANTGARDE',\n",
       " 'HAUSHALTSSTRUKTUR',\n",
       " 'KBA05_BAUMAX',\n",
       " 'KK_KUNDENTYP',\n",
       " 'LP_FAMILIE_FEIN',\n",
       " 'LP_FAMILIE_GROB',\n",
       " 'LP_STATUS_FEIN',\n",
       " 'LP_STATUS_GROB',\n",
       " 'NATIONALITAET_KZ',\n",
       " 'OST_WEST_KZ',\n",
       " 'PLZ8_BAUMAX',\n",
       " 'SHOPPER_TYP',\n",
       " 'SOHO_KZ',\n",
       " 'TITEL_KZ',\n",
       " 'VERS_TYP',\n",
       " 'WACHSTUMSGEBIET_NB',\n",
       " 'WOHNLAGE',\n",
       " 'ZABEOTYP']"
      ]
     },
     "execution_count": 33,
     "metadata": {},
     "output_type": "execute_result"
    }
   ],
   "source": [
    "#retrieve a list of categorical features for future encoding\n",
    "cats = attributes[attributes.type == 'categorical']\n",
    "list(cats['attribute'])"
   ]
  },
  {
   "cell_type": "markdown",
   "metadata": {},
   "source": [
    "At this point I already dealt with the CAMEO_INTL_2015 column by converting XX to nan\n",
    "\n",
    "PRAEGENDE_JUGENDJAHRE has 3 dimentions: generation decade, if people are mainstream or avant-garde and if they are from east or west, I will create new features out of this particular column\n",
    "\n",
    "LP_LEBENSPHASE_GROB seems to encode the same information as the CAMEO column and it is divided between gross(grob) and fine (fein) "
   ]
  },
  {
   "cell_type": "code",
   "execution_count": 34,
   "metadata": {},
   "outputs": [
    {
     "name": "stdout",
     "output_type": "stream",
     "text": [
      "Feature balance between dfs?:  True\n"
     ]
    }
   ],
   "source": [
    "balance_checker(azdias, customers)"
   ]
  },
  {
   "cell_type": "markdown",
   "metadata": {},
   "source": [
    "## Feature engineering\n",
    "#### Based on the previous exploration there are a few features that are good candidates for novel feature creation"
   ]
  },
  {
   "cell_type": "code",
   "execution_count": null,
   "metadata": {},
   "outputs": [
    {
     "name": "stdout",
     "output_type": "stream",
     "text": [
      "Creating PRAEGENDE_JUGENDJAHRE_DECADE feature\n",
      "Creating PRAEGENDE_JUGENDJAHRE_MOVEMENT feature\n",
      "Creating WOHNLAGE_QUALITY feature\n",
      "Creating WOHNLAGE_AREA feature\n",
      "Creating Wealth and Family feature\n",
      "Creating LP_LEBENSPHASE_FEIN_life_stage and LP_LEBENSPHASE_FEIN_fine_scale feature\n",
      "Creating NATIONALITY feature\n"
     ]
    }
   ],
   "source": [
    "azdias_eng = azdias.copy()\n",
    "customers_eng = customers.copy()\n",
    "azdias_eng = feat_eng(azdias_eng)\n",
    "customers_eng = feat_eng(customers_eng)"
   ]
  },
  {
   "cell_type": "markdown",
   "metadata": {},
   "source": [
    "balance_checker(azdias, customers)"
   ]
  },
  {
   "cell_type": "markdown",
   "metadata": {},
   "source": [
    "#### Now that I am done with creating new features and dealing with the most obvious columns I might need to encode the remaining categorical features\n",
    "#### Considering this post: https://stats.stackexchange.com/questions/224051/one-hot-vs-dummy-encoding-in-scikit-learn there are advantages and drawbacks with chosing one-hot-encoding vs dummy encoding.\n",
    "#### There are also concerns regarding using dummies all together https://towardsdatascience.com/one-hot-encoding-is-making-your-tree-based-ensembles-worse-heres-why-d64b282b5769 so I will keep this in mind while moving forward\n"
   ]
  },
  {
   "cell_type": "markdown",
   "metadata": {},
   "source": [
    "## Feature scaling\n",
    "### Before moving on to dimentionality reduction I need to apply feature scaling, this way principal component vectors won't be affected by the variation that naturally occurs in the data\n",
    "### Before applying the scaler there should be no missing values in the data"
   ]
  },
  {
   "cell_type": "code",
   "execution_count": null,
   "metadata": {},
   "outputs": [],
   "source": [
    "azdias_eng.isnull().sum()"
   ]
  },
  {
   "cell_type": "code",
   "execution_count": null,
   "metadata": {},
   "outputs": [],
   "source": [
    "azdias_eng.head()"
   ]
  },
  {
   "cell_type": "code",
   "execution_count": null,
   "metadata": {},
   "outputs": [],
   "source": [
    "#dataframes using StandardScaler\n",
    "azdias_SS = feature_scaling(azdias_eng, 'StandardScaler')\n",
    "customers_SS = feature_scaling(customers_eng, 'StandardScaler')"
   ]
  },
  {
   "cell_type": "code",
   "execution_count": null,
   "metadata": {},
   "outputs": [],
   "source": [
    "#dataframes using RobustScaler\n",
    "azdias_RS = feature_scaling(azdias_eng, 'RobustScaler')\n",
    "customers_RS = feature_scaling(customers_eng, 'RobustScaler')"
   ]
  },
  {
   "cell_type": "code",
   "execution_count": null,
   "metadata": {},
   "outputs": [],
   "source": [
    "#dataframes using MinMaxScaler\n",
    "azdias_MMS = feature_scaling(azdias_eng, 'MinMaxScaler')\n",
    "customers_MMS = feature_scaling(customers_eng, 'MinMaxScaler')"
   ]
  },
  {
   "cell_type": "markdown",
   "metadata": {},
   "source": [
    "## Dimensionality Reduction\n",
    "### Finally I will use PCA (linear technique) to select only the components that seem to be more impactfull"
   ]
  },
  {
   "cell_type": "code",
   "execution_count": null,
   "metadata": {},
   "outputs": [],
   "source": [
    "n_components_azdias = len(azdias_SS.columns.values)\n",
    "n_components_customers = len(customers_SS.columns.values)\n",
    "\n",
    "azdias_SS_pca = pca_model(azdias_SS, n_components_azdias)\n",
    "customers_SS_pca = pca_model(customers_SS, n_components_customers)\n",
    "\n",
    "azdias_RS_pca = pca_model(azdias_RS, n_components_azdias)\n",
    "customers_RS_pca = pca_model(customers_RS, n_components_customers)\n",
    "\n",
    "azdias_MMS_pca = pca_model(azdias_MMS, n_components_azdias)\n",
    "customers_MMS_pca = pca_model(customers_MMS, n_components_customers)"
   ]
  },
  {
   "cell_type": "code",
   "execution_count": null,
   "metadata": {},
   "outputs": [],
   "source": [
    "#### Change to code if intending to save file progress for other notebooks\n",
    "azdias_SS.to_csv(r\"C:\\Users\\sousa\\Desktop\\github\\Arvato\\data\\azdias_SS.csv\")\n",
    "azdias_RS.to_csv(r\"C:\\Users\\sousa\\Desktop\\github\\Arvato\\data\\azdias_RS.csv\")\n",
    "azdias_MMS.to_csv(r\"C:\\Users\\sousa\\Desktop\\github\\Arvato\\data\\azdias_MMS.csv\")\n",
    "customers_SS.to_csv(r\"C:\\Users\\sousa\\Desktop\\github\\Arvato\\data\\customers_SS.csv\")\n",
    "customers_RS.to_csv(r\"C:\\Users\\sousa\\Desktop\\github\\Arvato\\data\\customers_RS.csv\")\n",
    "customers_MMS.to_csv(r\"C:\\Users\\sousa\\Desktop\\github\\Arvato\\data\\customers_MMS.csv\")"
   ]
  },
  {
   "cell_type": "code",
   "execution_count": null,
   "metadata": {},
   "outputs": [],
   "source": [
    "scree_plots(azdias_SS_pca, azdias_RS_pca, azdias_MMS_pca, ' azdias')"
   ]
  },
  {
   "cell_type": "code",
   "execution_count": null,
   "metadata": {},
   "outputs": [],
   "source": [
    "scree_plots(customers_SS_pca, customers_RS_pca, customers_MMS_pca, ' customers')"
   ]
  },
  {
   "cell_type": "markdown",
   "metadata": {},
   "source": [
    "Each principal component is a directional vector pointing to the highest variance. The greater the distance from 0 the more the vector points to a feature."
   ]
  },
  {
   "cell_type": "code",
   "execution_count": null,
   "metadata": {},
   "outputs": [],
   "source": [
    "first_dimension = interpret_pca(azdias_SS, n_components_azdias, 1)\n",
    "first_dimension"
   ]
  },
  {
   "cell_type": "code",
   "execution_count": null,
   "metadata": {},
   "outputs": [],
   "source": [
    "display_interesting_features(azdias_SS, azdias_SS_pca, 0)"
   ]
  },
  {
   "cell_type": "code",
   "execution_count": null,
   "metadata": {},
   "outputs": [],
   "source": [
    "display_interesting_features(azdias_RS, azdias_RS_pca, 0)"
   ]
  },
  {
   "cell_type": "code",
   "execution_count": null,
   "metadata": {},
   "outputs": [],
   "source": [
    "display_interesting_features(azdias_MMS, azdias_MMS_pca, 0)"
   ]
  },
  {
   "cell_type": "markdown",
   "metadata": {},
   "source": [
    "#### On this first dimension most of the information seems to be related to household size, purchase power and types of purchases"
   ]
  },
  {
   "cell_type": "markdown",
   "metadata": {},
   "source": [
    "#### Based on these plots:\n",
    "- using standard scaler with 300 principal components 90% of the original variance can be represented\n",
    "- using robust scaler with about 150 components we represent 90% of the original variance \n",
    "- using minmax scaler with 250 components we represent 90% of the original variance\n"
   ]
  },
  {
   "cell_type": "markdown",
   "metadata": {},
   "source": [
    "#### Moving on I will pick the standard scaler PCA and I will re-fit with with a number of components that explains over 80% of the explained variance"
   ]
  },
  {
   "cell_type": "markdown",
   "metadata": {},
   "source": [
    "azdias_MMS_refit = pca_model(azdias_MMS, 110)\n",
    "explained_variance = azdias_MMS_refit.explained_variance_ratio_.sum()\n",
    "explained_variance"
   ]
  },
  {
   "cell_type": "code",
   "execution_count": null,
   "metadata": {},
   "outputs": [],
   "source": [
    "azdias_SS_refit = pca_model(azdias_SS, 250)\n",
    "explained_variance = azdias_SS_refit.explained_variance_ratio_.sum()\n",
    "explained_variance"
   ]
  },
  {
   "cell_type": "markdown",
   "metadata": {},
   "source": [
    "azdias_RS_refit = pca_model(azdias_RS, 110)\n",
    "explained_variance = azdias_RS_refit.explained_variance_ratio_.sum()\n",
    "explained_variance"
   ]
  },
  {
   "cell_type": "markdown",
   "metadata": {},
   "source": [
    "## Part 1: Customer Segmentation Report\n",
    "\n",
    "The main bulk of your analysis will come in this part of the project. Here, you should use unsupervised learning techniques to describe the relationship between the demographics of the company's existing customers and the general population of Germany. By the end of this part, you should be able to describe parts of the general population that are more likely to be part of the mail-order company's main customer base, and which parts of the general population are less so."
   ]
  },
  {
   "cell_type": "markdown",
   "metadata": {},
   "source": [
    "### After a lot of data Pre-Processing we are fibally getting to the analysis, I will start by attempting KMeans to find relevant clusters"
   ]
  },
  {
   "cell_type": "markdown",
   "metadata": {},
   "source": [
    "#### Now that I have reduced the number of components to use, it is important to select the number of clusters to aim at for kmeans"
   ]
  },
  {
   "cell_type": "code",
   "execution_count": null,
   "metadata": {},
   "outputs": [],
   "source": [
    "pca = PCA(180)\n",
    "azdias_SS_pca = pca.fit_transform(azdias_SS)"
   ]
  },
  {
   "cell_type": "markdown",
   "metadata": {},
   "source": [
    "The elbow method (https://bl.ocks.org/rpgove/0060ff3b656618e9136b) is a way to validate the optimal number of clusters to use for a particular dataset.\n",
    "It can take some time training the dataset, optimising for the optimal n of clusters means that less resources are used."
   ]
  },
  {
   "cell_type": "code",
   "execution_count": null,
   "metadata": {},
   "outputs": [],
   "source": [
    "elbow_method(azdias_RS_110)"
   ]
  },
  {
   "cell_type": "markdown",
   "metadata": {},
   "source": [
    "Based on the elbow plot 7 clusters should be enough to proceed with the kmeans training"
   ]
  },
  {
   "cell_type": "code",
   "execution_count": null,
   "metadata": {},
   "outputs": [],
   "source": [
    "# refitting using just 9 clusters\n",
    "kmeans = KMeans(7)\n",
    "kmodel = kmeans.fit(azdias_SS_pca)"
   ]
  },
  {
   "cell_type": "code",
   "execution_count": null,
   "metadata": {},
   "outputs": [],
   "source": [
    "#and now we can compare the customer data to the general demographics\n",
    "azdias_clusters = kmodel.predict(pca.transform(azdias_SS))\n",
    "customers_clusters = kmodel.predict(pca.transform(customers_SS))"
   ]
  },
  {
   "cell_type": "code",
   "execution_count": null,
   "metadata": {},
   "outputs": [],
   "source": [
    "#number of d_points in each cluster\n",
    "n_azdias_clusters = (pd.Series(azdias_clusters)).value_counts().sort_index()\n",
    "n_customers_clusters = (pd.Series(customers_clusters)).value_counts().sort_index()"
   ]
  },
  {
   "cell_type": "code",
   "execution_count": null,
   "metadata": {},
   "outputs": [],
   "source": [
    "#create df from the datapoint counts\n",
    "azdia_customers_counts = pd.concat([n_azdias_clusters, n_customers_clusters], axis=1).reset_index()\n",
    "azdia_customers_counts.columns = ['cluster', 'population', 'customer']"
   ]
  },
  {
   "cell_type": "code",
   "execution_count": null,
   "metadata": {},
   "outputs": [],
   "source": [
    "# add ratios to the df\n",
    "azdia_customers_counts['%pop'] = (azdia_customers_counts['population']/azdia_customers_counts['population'].sum()*100).round(2)\n",
    "\n",
    "azdia_customers_counts['%cust'] = (azdia_customers_counts['customer']/azdia_customers_counts['customer'].sum()*100).round(2)\n",
    "\n",
    "azdia_customers_counts['diff'] = (azdia_customers_counts['%cust'] - azdia_customers_counts['%pop'])\n"
   ]
  },
  {
   "cell_type": "code",
   "execution_count": null,
   "metadata": {},
   "outputs": [],
   "source": [
    "# Visualize ratios for each cluster\n",
    "\n",
    "fig = plt.figure(figsize=(12,6))\n",
    "\n",
    "ax = fig.add_subplot(111)\n",
    "\n",
    "ax = azdia_customers_counts['%pop'].plot(x=azdia_customers_counts['cluster'], kind='bar',\\\n",
    "                                                   color='teal',width=-0.3, align='edge',position=0)\n",
    "ax = azdia_customers_counts['%cust'].plot(x=azdia_customers_counts['cluster'], kind='bar',\\\n",
    "                                                    color='coral',width = 0.3, align='edge',position=1)\n",
    "\n",
    "ax.margins(x=0.5,y=0.1)\n",
    "ax.set_xlabel('Clusters', fontsize=15) \n",
    "ax.set_ylabel('Ratio %', fontsize=15)\n",
    "ax.xaxis.set(ticklabels= azdia_customers_counts['cluster'])\n",
    "ax.tick_params(axis = 'x', which = 'major', labelsize = 16)\n",
    "plt.xticks(rotation=360,)\n",
    "\n",
    "plt.legend(('population %', 'customer %'),fontsize=15)\n",
    "plt.title(('Comparison of ratio of general population and customer count as % of total in each cluster.')\n",
    "          ,fontsize=16)\n",
    "\n",
    "plt.subplots_adjust(bottom=0.2)\n",
    "plt.show()"
   ]
  },
  {
   "cell_type": "markdown",
   "metadata": {},
   "source": [
    "Based on the clustering analysis clusters 0 and 2 and 3 have a higher proportion of customers so these might be good general pop profiles for future customers"
   ]
  },
  {
   "cell_type": "markdown",
   "metadata": {},
   "source": [
    "## Part 2: Supervised Learning Model\n",
    "\n",
    "Now that you've found which parts of the population are more likely to be customers of the mail-order company, it's time to build a prediction model. Each of the rows in the \"MAILOUT\" data files represents an individual that was targeted for a mailout campaign. Ideally, we should be able to use the demographic information from each individual to decide whether or not it will be worth it to include that person in the campaign.\n",
    "\n",
    "The \"MAILOUT\" data has been split into two approximately equal parts, each with almost 43 000 data rows. In this part, you can verify your model with the \"TRAIN\" partition, which includes a column, \"RESPONSE\", that states whether or not a person became a customer of the company following the campaign. In the next part, you'll need to create predictions on the \"TEST\" partition, where the \"RESPONSE\" column has been withheld."
   ]
  },
  {
   "cell_type": "code",
   "execution_count": null,
   "metadata": {},
   "outputs": [],
   "source": [
    "mailout_train = pd.read_csv(r\"C:\\Users\\sousa\\Desktop\\github\\Arvato\\data\\mailout_train.csv\")\n",
    "mailout_test = pd.read_csv(r\"C:\\Users\\sousa\\Desktop\\github\\Arvato\\data\\mailout_test.csv\")"
   ]
  },
  {
   "cell_type": "code",
   "execution_count": null,
   "metadata": {},
   "outputs": [],
   "source": [
    "#getting the train labels\n",
    "train_labels = mailout_train['RESPONSE'].tolist()"
   ]
  },
  {
   "cell_type": "code",
   "execution_count": null,
   "metadata": {},
   "outputs": [],
   "source": [
    "#running all the cleaning and feature transformation functions\n",
    "#fixing the mixed type columns\n",
    "mailout_train = special_feature_handler(mailout_train)\n",
    "mailout_test = special_feature_handler(mailout_test)\n",
    "\n",
    "#dealing with missing and unknowns\n",
    "unknowns_to_NANs(mailout_train, dias_xls)\n",
    "unknowns_to_NANs(mailout_test, dias_xls)\n",
    "\n",
    "#getting percentages of missing\n",
    "percent_missing_train = percentage_of_missing(mailout_train)\n",
    "percent_missing_test = percentage_of_missing(mailout_test)\n",
    "\n",
    "#getting missing over 30%\n",
    "train_missing_over_30 = split_on_percentage(percent_missing_train, 30, '>')\n",
    "test_missing_over_30 = split_on_percentage(percent_missing_test, 30, '>')\n",
    "\n",
    "#getting columns to delete\n",
    "train_col_delete = columns_to_delete(train_missing_over_30)\n",
    "test_col_delete = columns_to_delete(test_missing_over_30)\n",
    "\n",
    "#dropping cols\n",
    "mailout_train = mailout_train.drop(train_col_delete, axis = 1)\n",
    "mailout_test = mailout_test.drop(test_col_delete, axis = 1)\n",
    "\n",
    "#dropping rows\n",
    "mailout_train = row_dropper(mailout_train, 100)\n",
    "mailout_test = row_dropper(mailout_test, 100)\n",
    "\n",
    "#feature engineering\n",
    "feat_eng(mailout_train)\n",
    "feat_eng(mailout_test)"
   ]
  },
  {
   "cell_type": "code",
   "execution_count": null,
   "metadata": {},
   "outputs": [],
   "source": [
    "#since I just dropped several columns I will do another balance check\n",
    "balance_checker(azdias_eng, mailout_train)"
   ]
  },
  {
   "cell_type": "code",
   "execution_count": null,
   "metadata": {},
   "outputs": [],
   "source": [
    "#dropping discrepant columns\n",
    "mailout_train = mailout_train.drop(['REGIOTYP', 'KKK'], inplace=False, axis=1)"
   ]
  },
  {
   "cell_type": "code",
   "execution_count": null,
   "metadata": {},
   "outputs": [],
   "source": [
    "#getting the target\n",
    "target = mailout_train['RESPONSE']\n",
    "mailout_train = mailout_train.drop(['RESPONSE'], inplace=False, axis=1)"
   ]
  },
  {
   "cell_type": "code",
   "execution_count": null,
   "metadata": {},
   "outputs": [],
   "source": [
    "#checking the label distribution\n",
    "\n",
    "sns.countplot(target).set_title(\"Label distribution\")"
   ]
  },
  {
   "cell_type": "markdown",
   "metadata": {},
   "source": [
    "Based on this plot these datasets are quite imbalanced, there are quite a few more responses corresponding to 0 than to 1.\n",
    "\n",
    "Considering this accuracy will not be an appropriate metric, ROCAUC is a better option (1 being a perfect score, and 0.5 just random chance)\n",
    "\n",
    "Lets try model selection"
   ]
  },
  {
   "cell_type": "code",
   "execution_count": null,
   "metadata": {},
   "outputs": [],
   "source": [
    "SEED = 28"
   ]
  },
  {
   "cell_type": "code",
   "execution_count": null,
   "metadata": {},
   "outputs": [],
   "source": [
    "# 5 stratified folds\n",
    "skf = StratifiedKFold(n_splits=5, random_state=SEED, shuffle=True)\n",
    "skf.get_n_splits(mailout_train, target)"
   ]
  },
  {
   "cell_type": "code",
   "execution_count": null,
   "metadata": {},
   "outputs": [],
   "source": [
    "def create_base_models():\n",
    "    '''\n",
    "    Creates base models.\n",
    "    \n",
    "    Args:\n",
    "        None\n",
    "    \n",
    "    Returns:\n",
    "        baseModels (list) - list containing base models.\n",
    "    '''\n",
    "    basedModels = []\n",
    "    basedModels.append(('LR', LogisticRegression(solver='liblinear', random_state=SEED)))\n",
    "    basedModels.append(('RF', RandomForestClassifier(n_estimators=100, random_state=SEED)))\n",
    "    basedModels.append(('XGB', xgb.XGBClassifier(random_state=SEED)))\n",
    "    basedModels.append(('LGBM', lgb.LGBMClassifier(random_state=SEED)))\n",
    "    basedModels.append(('GB', GradientBoostingClassifier(random_state=SEED)))\n",
    "    basedModels.append(('MLP', MLPClassifier(random_state=SEED)))\n",
    "    \n",
    "    return basedModels"
   ]
  },
  {
   "cell_type": "code",
   "execution_count": null,
   "metadata": {},
   "outputs": [],
   "source": [
    "def evaluate(features, response, models, curve=False):\n",
    "    '''\n",
    "    Evaluates models using X-Fold cross-validation. \n",
    "    Learning curve can also be plotted (optional).\n",
    "    \n",
    "    Args:\n",
    "        features (dataframe) - dataset to be used for training.\n",
    "        response (dataframe) - target variable\n",
    "        models (list) - list of models to evaluated.\n",
    "        curve (bool) - whether or not to plot learning curve.\n",
    "        \n",
    "    Returns:\n",
    "        names (list) - list of models tested.\n",
    "        results (list) - list of results for each model.\n",
    "    '''\n",
    "    results = []\n",
    "    names = []\n",
    "    for name, model in models:\n",
    "        cv_results = cross_val_score(model, features, response, cv=skf, scoring='roc_auc', n_jobs=1)\n",
    "        results.append(cv_results)\n",
    "        names.append(name)\n",
    "        msg = \"%s: %f (%f)\" % (name, cv_results.mean(), cv_results.std())\n",
    "        print(msg)\n",
    "        if curve:\n",
    "            train_sizes, train_scores, test_scores = learning_curve(\n",
    "                model, features, response, cv=skf, scoring = 'roc_auc', train_sizes=np.linspace(.1, 1.0, 10), n_jobs=1)\n",
    "\n",
    "            train_scores_mean = np.mean(train_scores, axis=1)\n",
    "            test_scores_mean = np.mean(test_scores, axis=1)\n",
    "            print(\"roc auc train score = {}\".format(train_scores_mean[-1].round(2)))\n",
    "            print(\"roc auc validation score = {}\".format(test_scores_mean[-1].round(2)))\n",
    "            plt.grid()\n",
    "\n",
    "            plt.title(\"Learning Curve\")\n",
    "            plt.xlabel(\"% of training set\")\n",
    "            plt.ylabel(\"Score\")\n",
    "\n",
    "            plt.plot(np.linspace(.1, 1.0, 10)*100, train_scores_mean, 'o-', color=\"g\",\n",
    "                     label=\"Training score\")\n",
    "            plt.plot(np.linspace(.1, 1.0, 10)*100, test_scores_mean, 'o-', color=\"r\",\n",
    "                     label=\"Cross-validation score\")\n",
    "\n",
    "            plt.yticks(np.arange(0.45, 1.02, 0.05))\n",
    "            plt.xticks(np.arange(0., 100.05, 10))\n",
    "            plt.legend(loc=\"best\")\n",
    "            print(\"\")\n",
    "            plt.show()\n",
    "        \n",
    "        \n",
    "    return names, results"
   ]
  },
  {
   "cell_type": "code",
   "execution_count": null,
   "metadata": {},
   "outputs": [],
   "source": [
    "def get_scaled_preprocess(type_of_scaler):\n",
    "    '''\n",
    "    Create machine learning pipeline with or without scaler.\n",
    "    \n",
    "    Args:\n",
    "        type_of_scaler (str) - string value representing which scaler to use (if any).\n",
    "        \n",
    "    Returns (pipeline) - ml pipeline created.\n",
    "    '''\n",
    "    \n",
    "    if type_of_scaler == 'standard':\n",
    "        scaler = StandardScaler()\n",
    "    elif type_of_scaler == 'minmax':\n",
    "        scaler = MinMaxScaler()\n",
    "        \n",
    "    pipelines = []\n",
    "    pipelines.append((type_of_scaler+'LR', Pipeline([('Scaler', scaler), ('LR', LogisticRegression(solver='liblinear', random_state=SEED))])))\n",
    "    pipelines.append((type_of_scaler+'RF', Pipeline([('Scaler', scaler), ('RF', RandomForestClassifier(n_estimators=100, random_state=SEED))])))   \n",
    "    pipelines.append((type_of_scaler+'XGB', Pipeline([('Scaler', scaler), ('XGB', xgb.XGBClassifier(random_state=SEED))])))\n",
    "    pipelines.append((type_of_scaler+'LGBM', Pipeline([('Scaler', scaler), ('LGBM', lgb.LGBMClassifier(random_state=SEED))])))\n",
    "    pipelines.append((type_of_scaler+'GB', Pipeline([('Scaler', scaler), ('GB', GradientBoostingClassifier(random_state=SEED))])))   \n",
    "    pipelines.append((type_of_scaler+'MLP', Pipeline([('Scaler', scaler), ('MLP', MLPClassifier(random_state=SEED))])))   \n",
    "\n",
    "    \n",
    "    return pipelines"
   ]
  },
  {
   "cell_type": "code",
   "execution_count": null,
   "metadata": {},
   "outputs": [],
   "source": [
    "def create_score_df(names, results):\n",
    "    '''\n",
    "    Creates a dataframe containing model names and corresponding score.\n",
    "    \n",
    "    Args:\n",
    "        names (list) - list of model names.\n",
    "        results (list) - list of scores.\n",
    "    '''\n",
    "    def floatingDecimals(f_val, dec=3):\n",
    "        prc = \"{:.\"+str(dec)+\"f}\" \n",
    "    \n",
    "        return float(prc.format(f_val))\n",
    "\n",
    "    scores = []\n",
    "    for r in results:\n",
    "        scores.append(floatingDecimals(r.mean(),4))\n",
    "\n",
    "    scoreDataFrame = pd.DataFrame({'Model':names, 'Score': scores})\n",
    "    return scoreDataFrame"
   ]
  },
  {
   "cell_type": "code",
   "execution_count": null,
   "metadata": {},
   "outputs": [],
   "source": [
    "mailout_train.isnull().sum()"
   ]
  },
  {
   "cell_type": "code",
   "execution_count": null,
   "metadata": {},
   "outputs": [],
   "source": [
    "#unscaled \n",
    "models = create_base_models()\n",
    "names, results = evaluate(mailout_train, target, models, curve=True)\n",
    "baseline_score = create_score_df(names, results)\n",
    "baseline_score"
   ]
  },
  {
   "cell_type": "markdown",
   "metadata": {},
   "source": [
    "## Part 3: Kaggle Competition\n",
    "\n",
    "Now that you've created a model to predict which individuals are most likely to respond to a mailout campaign, it's time to test that model in competition through Kaggle. If you click on the link [here](http://www.kaggle.com/t/21e6d45d4c574c7fa2d868f0e8c83140), you'll be taken to the competition page where, if you have a Kaggle account, you can enter. If you're one of the top performers, you may have the chance to be contacted by a hiring manager from Arvato or Bertelsmann for an interview!\n",
    "\n",
    "Your entry to the competition should be a CSV file with two columns. The first column should be a copy of \"LNR\", which acts as an ID number for each individual in the \"TEST\" partition. The second column, \"RESPONSE\", should be some measure of how likely each individual became a customer – this might not be a straightforward probability. As you should have found in Part 2, there is a large output class imbalance, where most individuals did not respond to the mailout. Thus, predicting individual classes and using accuracy does not seem to be an appropriate performance evaluation method. Instead, the competition will be using AUC to evaluate performance. The exact values of the \"RESPONSE\" column do not matter as much: only that the higher values try to capture as many of the actual customers as possible, early in the ROC curve sweep."
   ]
  },
  {
   "cell_type": "code",
   "execution_count": null,
   "metadata": {},
   "outputs": [],
   "source": []
  },
  {
   "cell_type": "code",
   "execution_count": null,
   "metadata": {},
   "outputs": [],
   "source": [
    "mailout_test = pd.read_csv('../../data/Term2/capstone/arvato_data/Udacity_MAILOUT_052018_TEST.csv', sep=';')"
   ]
  },
  {
   "cell_type": "code",
   "execution_count": null,
   "metadata": {},
   "outputs": [],
   "source": [
    "mail"
   ]
  }
 ],
 "metadata": {
  "kernelspec": {
   "display_name": "Python 3",
   "language": "python",
   "name": "python3"
  },
  "language_info": {
   "codemirror_mode": {
    "name": "ipython",
    "version": 3
   },
   "file_extension": ".py",
   "mimetype": "text/x-python",
   "name": "python",
   "nbconvert_exporter": "python",
   "pygments_lexer": "ipython3",
   "version": "3.7.5"
  }
 },
 "nbformat": 4,
 "nbformat_minor": 2
}
