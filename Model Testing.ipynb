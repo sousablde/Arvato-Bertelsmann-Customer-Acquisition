{
 "cells": [
  {
   "cell_type": "code",
   "execution_count": 1,
   "metadata": {},
   "outputs": [],
   "source": [
    "# import libraries here; add more as necessary\n",
    "import numpy as np\n",
    "import pandas as pd\n",
    "import matplotlib.pyplot as plt\n",
    "import seaborn as sns\n",
    "import pickle\n",
    "\n",
    "#imports to help me plot my venn diagrams\n",
    "import matplotlib_venn as venn2\n",
    "from matplotlib_venn import venn2\n",
    "from pylab import rcParams\n",
    "\n",
    "# import the util.py file where I define my functions\n",
    "from utils import *\n",
    "\n",
    "# sklearn\n",
    "from sklearn.preprocessing import StandardScaler, RobustScaler, MinMaxScaler, OneHotEncoder\n",
    "from sklearn.impute import SimpleImputer\n",
    "from sklearn.decomposition import PCA\n",
    "from sklearn.cluster import KMeans\n",
    "from sklearn.ensemble import RandomForestClassifier\n",
    "from sklearn.model_selection import GridSearchCV, train_test_split\n",
    "from sklearn.metrics import confusion_matrix,precision_recall_fscore_support\n",
    "from sklearn.utils.multiclass import unique_labels\n",
    "from sklearn.linear_model import LinearRegression\n",
    "from sklearn.model_selection import train_test_split, StratifiedKFold, cross_val_score, RandomizedSearchCV, GridSearchCV\n",
    "from sklearn.metrics import roc_auc_score, recall_score\n",
    "\n",
    "from sklearn.pipeline import Pipeline\n",
    "from sklearn.ensemble import RandomForestClassifier, GradientBoostingClassifier\n",
    "from sklearn.linear_model import LogisticRegression\n",
    "from sklearn.neural_network import MLPClassifier\n",
    "from sklearn.model_selection import StratifiedKFold, learning_curve\n",
    "\n",
    "import xgboost as xgb\n",
    "import lightgbm as lgb\n",
    "\n",
    "import skopt\n",
    "from skopt import BayesSearchCV\n",
    "class BayesSearchCV(BayesSearchCV):\n",
    "    def _run_search(self, x): raise BaseException('Use newer skopt')\n",
    "\n",
    "# magic word for producing visualizations in notebook\n",
    "%matplotlib inline\n",
    "\n",
    "import time\n",
    "from timeit import default_timer as timer"
   ]
  },
  {
   "cell_type": "code",
   "execution_count": 2,
   "metadata": {},
   "outputs": [
    {
     "name": "stderr",
     "output_type": "stream",
     "text": [
      "C:\\ProgramData\\Anaconda3\\lib\\site-packages\\IPython\\core\\interactiveshell.py:3058: DtypeWarning: Columns (19,20) have mixed types. Specify dtype option on import or set low_memory=False.\n",
      "  interactivity=interactivity, compiler=compiler, result=result)\n"
     ]
    }
   ],
   "source": [
    "mailout_train = pd.read_csv(r\"C:\\Users\\sousa\\Desktop\\github\\Arvato\\data\\mailout_train.csv\")\n",
    "mailout_test = pd.read_csv(r\"C:\\Users\\sousa\\Desktop\\github\\Arvato\\data\\mailout_test.csv\")\n",
    "dias_xls = pd.read_excel(r\"C:\\Users\\sousa\\Desktop\\github\\Arvato\\data\\DIAS Attributes - Values 2017.xlsx\", header = 1)"
   ]
  },
  {
   "cell_type": "code",
   "execution_count": 3,
   "metadata": {},
   "outputs": [
    {
     "name": "stdout",
     "output_type": "stream",
     "text": [
      "Creating PRAEGENDE_JUGENDJAHRE_DECADE feature\n",
      "Creating PRAEGENDE_JUGENDJAHRE_MOVEMENT feature\n",
      "Creating WOHNLAGE_QUALITY feature\n",
      "Creating WOHNLAGE_AREA feature\n",
      "Creating Wealth and Family feature\n",
      "Creating LP_LEBENSPHASE_FEIN_life_stage and LP_LEBENSPHASE_FEIN_fine_scale feature\n",
      "Creating PRAEGENDE_JUGENDJAHRE_DECADE feature\n",
      "Creating PRAEGENDE_JUGENDJAHRE_MOVEMENT feature\n",
      "Creating WOHNLAGE_QUALITY feature\n",
      "Creating WOHNLAGE_AREA feature\n",
      "Creating Wealth and Family feature\n",
      "Creating LP_LEBENSPHASE_FEIN_life_stage and LP_LEBENSPHASE_FEIN_fine_scale feature\n"
     ]
    }
   ],
   "source": [
    "#running all the cleaning and feature transformation functions\n",
    "#fixing the mixed type columns\n",
    "mailout_train = special_feature_handler(mailout_train)\n",
    "mailout_test = special_feature_handler(mailout_test)\n",
    "\n",
    "#dealing with missing and unknowns\n",
    "unknowns_to_NANs(mailout_train, dias_xls)\n",
    "unknowns_to_NANs(mailout_test, dias_xls)\n",
    "\n",
    "#getting percentages of missing\n",
    "percent_missing_train = percentage_of_missing(mailout_train)\n",
    "percent_missing_test = percentage_of_missing(mailout_test)\n",
    "\n",
    "#getting missing over 30%\n",
    "train_missing_over_30 = split_on_percentage(percent_missing_train, 30, '>')\n",
    "test_missing_over_30 = split_on_percentage(percent_missing_test, 30, '>')\n",
    "\n",
    "#getting columns to delete\n",
    "train_col_delete = columns_to_delete(train_missing_over_30)\n",
    "test_col_delete = columns_to_delete(test_missing_over_30)\n",
    "\n",
    "#dropping cols\n",
    "mailout_train = mailout_train.drop(train_col_delete, axis = 1)\n",
    "mailout_test = mailout_test.drop(test_col_delete, axis = 1)\n",
    "\n",
    "#feature engineering\n",
    "mailout_train = feat_eng(mailout_train)\n",
    "mailout_test = feat_eng(mailout_test)"
   ]
  },
  {
   "cell_type": "markdown",
   "metadata": {},
   "source": [
    "mailout_train = pd.read_pickle(r\"C:\\Users\\sousa\\Desktop\\github\\Arvato\\data\\mailout_train.pickle\")\n",
    "mailout_test = pd.read_pickle(r\"C:\\Users\\sousa\\Desktop\\github\\Arvato\\data\\mailout_test.pickle\")"
   ]
  },
  {
   "cell_type": "code",
   "execution_count": 4,
   "metadata": {},
   "outputs": [],
   "source": [
    "#getting the target\n",
    "target = mailout_train['RESPONSE']\n",
    "mailout_train = mailout_train.drop(['RESPONSE'], inplace=False, axis=1)"
   ]
  },
  {
   "cell_type": "code",
   "execution_count": 5,
   "metadata": {},
   "outputs": [
    {
     "name": "stdout",
     "output_type": "stream",
     "text": [
      "Feature balance between dfs?:  True\n"
     ]
    }
   ],
   "source": [
    "balance_checker(mailout_train, mailout_test)"
   ]
  },
  {
   "cell_type": "code",
   "execution_count": 6,
   "metadata": {},
   "outputs": [],
   "source": [
    "SEED = 28"
   ]
  },
  {
   "cell_type": "code",
   "execution_count": 7,
   "metadata": {},
   "outputs": [
    {
     "data": {
      "text/plain": [
       "10"
      ]
     },
     "execution_count": 7,
     "metadata": {},
     "output_type": "execute_result"
    }
   ],
   "source": [
    "# 10 stratified folds\n",
    "skf = StratifiedKFold(n_splits=10, random_state=SEED, shuffle=True)\n",
    "skf.get_n_splits(mailout_train, target)"
   ]
  },
  {
   "cell_type": "code",
   "execution_count": 8,
   "metadata": {},
   "outputs": [],
   "source": [
    "def create_base_models():\n",
    "    '''\n",
    "    Creates base models.\n",
    "    \n",
    "    Args:\n",
    "        None\n",
    "    \n",
    "    Returns:\n",
    "        baseModels (list) - list containing base models.\n",
    "    '''\n",
    "    basedModels = []\n",
    "    basedModels.append(('LR', LogisticRegression(solver='liblinear', random_state=SEED)))\n",
    "    basedModels.append(('RF', RandomForestClassifier(n_estimators=250, random_state=SEED)))\n",
    "    basedModels.append(('XGB', xgb.XGBClassifier(random_state=SEED)))\n",
    "    basedModels.append(('LGBM', lgb.LGBMClassifier(random_state=SEED)))\n",
    "    basedModels.append(('GB', GradientBoostingClassifier(random_state=SEED)))\n",
    "    basedModels.append(('MLP', MLPClassifier(random_state=SEED)))\n",
    "    \n",
    "    return basedModels"
   ]
  },
  {
   "cell_type": "code",
   "execution_count": 9,
   "metadata": {},
   "outputs": [],
   "source": [
    "def evaluate(features, response, models, curve=False):\n",
    "    '''\n",
    "    Evaluates models using X-Fold cross-validation. \n",
    "    Learning curve can also be plotted (optional).\n",
    "    \n",
    "    Args:\n",
    "        features (dataframe) - dataset to be used for training.\n",
    "        response (dataframe) - target variable\n",
    "        models (list) - list of models to evaluated.\n",
    "        curve (bool) - whether or not to plot learning curve.\n",
    "        \n",
    "    Returns:\n",
    "        names (list) - list of models tested.\n",
    "        results (list) - list of results for each model.\n",
    "    '''\n",
    "    results = []\n",
    "    names = []\n",
    "    for name, model in models:\n",
    "        cv_results = cross_val_score(model, features, response, cv=skf, scoring='roc_auc', n_jobs=1)\n",
    "        results.append(cv_results)\n",
    "        names.append(name)\n",
    "        msg = \"%s: %f (%f)\" % (name, cv_results.mean(), cv_results.std())\n",
    "        print(msg)\n",
    "        if curve:\n",
    "            train_sizes, train_scores, test_scores = learning_curve(\n",
    "                model, features, response, cv=skf, scoring = 'roc_auc', train_sizes=np.linspace(.1, 1.0, 10), n_jobs=1)\n",
    "\n",
    "            train_scores_mean = np.mean(train_scores, axis=1)\n",
    "            test_scores_mean = np.mean(test_scores, axis=1)\n",
    "            print(\"roc auc train score = {}\".format(train_scores_mean[-1].round(2)))\n",
    "            print(\"roc auc validation score = {}\".format(test_scores_mean[-1].round(2)))\n",
    "            plt.grid()\n",
    "\n",
    "            plt.title(\"Learning Curve\")\n",
    "            plt.xlabel(\"% of training set\")\n",
    "            plt.ylabel(\"Score\")\n",
    "\n",
    "            plt.plot(np.linspace(.1, 1.0, 10)*100, train_scores_mean, 'o-', color=\"g\",\n",
    "                     label=\"Training score\")\n",
    "            plt.plot(np.linspace(.1, 1.0, 10)*100, test_scores_mean, 'o-', color=\"r\",\n",
    "                     label=\"Cross-validation score\")\n",
    "\n",
    "            plt.yticks(np.arange(0.45, 1.02, 0.05))\n",
    "            plt.xticks(np.arange(0., 100.05, 10))\n",
    "            plt.legend(loc=\"best\")\n",
    "            print(\"\")\n",
    "            plt.show()\n",
    "        \n",
    "        \n",
    "    return names, results"
   ]
  },
  {
   "cell_type": "code",
   "execution_count": 10,
   "metadata": {},
   "outputs": [],
   "source": [
    "def get_scaled_preprocess(type_of_scaler):\n",
    "    '''\n",
    "    Create machine learning pipeline with or without scaler.\n",
    "    \n",
    "    Args:\n",
    "        type_of_scaler (str) - string value representing which scaler to use (if any).\n",
    "        \n",
    "    Returns (pipeline) - ml pipeline created.\n",
    "    '''\n",
    "    \n",
    "    if type_of_scaler == 'standard':\n",
    "        scaler = StandardScaler()\n",
    "    elif type_of_scaler == 'minmax':\n",
    "        scaler = MinMaxScaler()\n",
    "        \n",
    "    pipelines = []\n",
    "    pipelines.append((type_of_scaler+'LR', Pipeline([('Scaler', scaler), ('LR', LogisticRegression(solver='liblinear', random_state=SEED))])))\n",
    "    pipelines.append((type_of_scaler+'RF', Pipeline([('Scaler', scaler), ('RF', RandomForestClassifier(n_estimators=250, random_state=SEED))])))   \n",
    "    pipelines.append((type_of_scaler+'XGB', Pipeline([('Scaler', scaler), ('XGB', xgb.XGBClassifier(random_state=SEED))])))\n",
    "    pipelines.append((type_of_scaler+'LGBM', Pipeline([('Scaler', scaler), ('LGBM', lgb.LGBMClassifier(random_state=SEED))])))\n",
    "    pipelines.append((type_of_scaler+'GB', Pipeline([('Scaler', scaler), ('GB', GradientBoostingClassifier(random_state=SEED))])))   \n",
    "    pipelines.append((type_of_scaler+'MLP', Pipeline([('Scaler', scaler), ('MLP', MLPClassifier(random_state=SEED))])))   \n",
    "\n",
    "    \n",
    "    return pipelines"
   ]
  },
  {
   "cell_type": "code",
   "execution_count": 11,
   "metadata": {},
   "outputs": [],
   "source": [
    "def create_score_df(names, results):\n",
    "    '''\n",
    "    Creates a dataframe containing model names and corresponding score.\n",
    "    \n",
    "    Args:\n",
    "        names (list) - list of model names.\n",
    "        results (list) - list of scores.\n",
    "    '''\n",
    "    def floatingDecimals(f_val, dec=3):\n",
    "        prc = \"{:.\"+str(dec)+\"f}\" \n",
    "    \n",
    "        return float(prc.format(f_val))\n",
    "\n",
    "    scores = []\n",
    "    for r in results:\n",
    "        scores.append(floatingDecimals(r.mean(),4))\n",
    "\n",
    "    scoreDataFrame = pd.DataFrame({'Model':names, 'Score': scores})\n",
    "    return scoreDataFrame"
   ]
  },
  {
   "cell_type": "code",
   "execution_count": null,
   "metadata": {},
   "outputs": [
    {
     "name": "stdout",
     "output_type": "stream",
     "text": [
      "LR: 0.684727 (0.035091)\n"
     ]
    },
    {
     "name": "stderr",
     "output_type": "stream",
     "text": [
      "C:\\ProgramData\\Anaconda3\\lib\\site-packages\\sklearn\\svm\\base.py:929: ConvergenceWarning: Liblinear failed to converge, increase the number of iterations.\n",
      "  \"the number of iterations.\", ConvergenceWarning)\n"
     ]
    },
    {
     "name": "stdout",
     "output_type": "stream",
     "text": [
      "roc auc train score = 0.77\n",
      "roc auc validation score = 0.69\n",
      "\n"
     ]
    },
    {
     "data": {
      "image/png": "[encoded data removed]",
      "text/plain": [
       "<Figure size 432x288 with 1 Axes>"
      ]
     },
     "metadata": {
      "needs_background": "light"
     },
     "output_type": "display_data"
    },
    {
     "name": "stdout",
     "output_type": "stream",
     "text": [
      "RF: 0.615840 (0.041842)\n",
      "roc auc train score = 1.0\n",
      "roc auc validation score = 0.61\n",
      "\n"
     ]
    },
    {
     "data": {
      "image/png": "[encoded data removed]",
      "text/plain": [
       "<Figure size 432x288 with 1 Axes>"
      ]
     },
     "metadata": {
      "needs_background": "light"
     },
     "output_type": "display_data"
    },
    {
     "name": "stdout",
     "output_type": "stream",
     "text": [
      "XGB: 0.760539 (0.030901)\n",
      "roc auc train score = 0.88\n",
      "roc auc validation score = 0.76\n",
      "\n"
     ]
    },
    {
     "data": {
      "image/png": "[encoded data removed]",
      "text/plain": [
       "<Figure size 432x288 with 1 Axes>"
      ]
     },
     "metadata": {
      "needs_background": "light"
     },
     "output_type": "display_data"
    },
    {
     "name": "stdout",
     "output_type": "stream",
     "text": [
      "LGBM: 0.719792 (0.037150)\n",
      "roc auc train score = 0.99\n",
      "roc auc validation score = 0.72\n",
      "\n"
     ]
    },
    {
     "data": {
      "image/png": "[encoded data removed]",
      "text/plain": [
       "<Figure size 432x288 with 1 Axes>"
      ]
     },
     "metadata": {
      "needs_background": "light"
     },
     "output_type": "display_data"
    },
    {
     "name": "stdout",
     "output_type": "stream",
     "text": [
      "GB: 0.751571 (0.030996)\n"
     ]
    }
   ],
   "source": [
    "%%time\n",
    "#unscaled \n",
    "models = create_base_models()\n",
    "names, results = evaluate(mailout_train, target, models, curve=True)\n",
    "baseline_score = create_score_df(names, results)\n",
    "baseline_score"
   ]
  },
  {
   "cell_type": "code",
   "execution_count": null,
   "metadata": {},
   "outputs": [],
   "source": [
    "%%time\n",
    "# standard scaler\n",
    "models = get_scaled_preprocess('standard')\n",
    "names, results = evaluate(mailout_train, target, models)\n",
    "standard_scaler_score = create_score_df(names, results)\n",
    "\n",
    "df_score = pd.concat([baseline_score, standard_scaler_score], axis=1)\n",
    "df_score"
   ]
  },
  {
   "cell_type": "code",
   "execution_count": null,
   "metadata": {},
   "outputs": [],
   "source": [
    "%%time\n",
    "# minmax scaler\n",
    "models = get_scaled_preprocess('minmax')\n",
    "names, results = evaluate(mailout_train, target, models)\n",
    "minmax_scaler_score = create_score_df(names, results)\n",
    "\n",
    "df_score = pd.concat([df_score, minmax_scaler_score], axis=1)\n",
    "df_score"
   ]
  },
  {
   "cell_type": "markdown",
   "metadata": {},
   "source": [
    "#Since both standard scaler and min max scaler perform equally well I will stick with minmaxscaler"
   ]
  },
  {
   "cell_type": "code",
   "execution_count": null,
   "metadata": {},
   "outputs": [],
   "source": [
    "scaler = MinMaxScaler()\n",
    "scaler.fit(mailout_train.astype('float'))\n",
    "\n",
    "mailout_train_scaled = scaler.transform(mailout_train)\n",
    "mailout_test_scaled = scaler.transform(mailout_test)\n",
    "\n",
    "# map back to dfs\n",
    "mailout_train_scaled = pd.DataFrame(data=mailout_train_scaled, columns=mailout_train.columns)\n",
    "mailot_test_scaled = pd.DataFrame(data=mailout_test_scaled, columns=mailout_test.columns)"
   ]
  },
  {
   "cell_type": "markdown",
   "metadata": {},
   "source": [
    "### Hyperparameter tunning xgboost"
   ]
  },
  {
   "cell_type": "code",
   "execution_count": null,
   "metadata": {},
   "outputs": [],
   "source": [
    "ITERATIONS = 300\n",
    "bayes_cv_tuner_xg = BayesSearchCV(\n",
    "    estimator = xgb.XGBClassifier(\n",
    "        n_jobs = -1,\n",
    "        objective = 'binary:logistic',\n",
    "        eval_metric = 'auc',\n",
    "        silent=1,\n",
    "    ),\n",
    "    search_spaces = {\n",
    "        'learning_rate': (0.001, 1.0, 'log-uniform'),\n",
    "        'max_depth': (1, 10),\n",
    "        'min_child_weight': (1, 10),\n",
    "        'gamma': (0.0, 1.0, 'uniform'),\n",
    "        'subsample': (0.5, 1.0, 'uniform'),\n",
    "        'colsample_bytree': (0.5, 1.0, 'uniform'),\n",
    "        'reg_alpha': (1e-9, 1.0, 'log-uniform'),\n",
    "        'n_estimators': (50, 500),\n",
    "        'scale_pos_weight': (1,90)\n",
    "        \n",
    "        # uncomment to test more hyperparameters\n",
    "        #'max_delta_step': (0, 10),\n",
    "        #'colsample_bylevel': (0.01, 1.0, 'uniform'),\n",
    "        #'reg_lambda': (1e-9, 100, 'log-uniform'),\n",
    "        #'scale_pos_weight': (1, 90)\n",
    "    },    \n",
    "    scoring = 'roc_auc',\n",
    "    cv = StratifiedKFold(\n",
    "        n_splits=10,\n",
    "        shuffle=True,\n",
    "        random_state= SEED\n",
    "    ),\n",
    "    n_jobs = -1,\n",
    "    n_iter = ITERATIONS,   \n",
    "    verbose = 0,\n",
    "    refit = True,\n",
    "    random_state = np.random.RandomState(50)\n",
    ")\n",
    "\n",
    "def status_print(optim_result):\n",
    "    \"\"\"Status callback durring bayesian hyperparameter search\"\"\"\n",
    "    \n",
    "    # Get all the models tested so far in DataFrame format },\n",
    "    all_models = pd.DataFrame(bayes_cv_tuner_xg.cv_results_)    \n",
    "    \n",
    "    # Get current parameters and the best parameters    \n",
    "    best_params = pd.Series(bayes_cv_tuner_xg.best_params_)\n",
    "    \n",
    "    print('Model #{}\\nBest ROC-AUC: {}\\nBest params: {}\\n'.format(\n",
    "        len(all_models),\n",
    "        np.round(bayes_cv_tuner_xg.best_score_, 4),\n",
    "        bayes_cv_tuner_xg.best_params_\n",
    "    ))    \n",
    "    \n",
    "    # Save all model results\n",
    "    clf_name = bayes_cv_tuner_xg.estimator.__class__.__name__\n",
    "    all_models.to_csv(clf_name+\"_cv_results.csv\")"
   ]
  },
  {
   "cell_type": "code",
   "execution_count": null,
   "metadata": {},
   "outputs": [],
   "source": [
    "%%time\n",
    "result_xg = bayes_cv_tuner_xg.fit(mailout_train_scaled, target, callback=status_print)"
   ]
  },
  {
   "cell_type": "code",
   "execution_count": null,
   "metadata": {},
   "outputs": [],
   "source": [
    "bayes_xgb = bayes_cv_tuner_xg.best_estimator_\n",
    "bayes_xgb"
   ]
  },
  {
   "cell_type": "markdown",
   "metadata": {},
   "source": [
    "### Hyperparameter tunning lgbm"
   ]
  },
  {
   "cell_type": "code",
   "execution_count": null,
   "metadata": {},
   "outputs": [],
   "source": [
    "ITERATIONS = 300\n",
    "bayes_cv_tuner_lgbm = BayesSearchCV(\n",
    "    estimator = lgb.LGBMClassifier(\n",
    "        application='binary',\n",
    "        metric='auc',\n",
    "        n_jobs=-1,\n",
    "        verbose=0\n",
    "    ),\n",
    "    search_spaces = {\n",
    "        'learning_rate': (0.01, 0.3, 'uniform'),\n",
    "        'num_leaves': (2, 225),      \n",
    "        'max_depth': (2, 10),\n",
    "        'colsample_bytree':(0.5, 1.0, 'uniform'),\n",
    "        \"min_data_in_leaf\":(20, 100),\n",
    "        'min_child_samples': (0, 50),\n",
    "        'max_bin': (100, 1000),\n",
    "        'reg_lambda': (1e-9, 1.0, 'log-uniform'),\n",
    "        'reg_alpha': (1e-9, 1.0, 'log-uniform'),\n",
    "        'scale_pos_weight': (1,90, 'uniform'),\n",
    "        'n_estimators': (20, 400),\n",
    "},    \n",
    "    scoring = 'roc_auc',\n",
    "    cv = StratifiedKFold(\n",
    "        n_splits=10,\n",
    "        shuffle=True,\n",
    "        random_state=SEED\n",
    "    ),\n",
    "    n_jobs = -1,\n",
    "    n_iter = ITERATIONS,   \n",
    "    verbose = 0,\n",
    "    refit = True,\n",
    "    random_state = SEED\n",
    ")\n",
    "\n",
    "def status_print(optim_result):\n",
    "    \"\"\"Status callback durring bayesian hyperparameter search\"\"\"\n",
    "    \n",
    "    # Get all the models tested so far in DataFrame format\n",
    "    all_models = pd.DataFrame(bayes_cv_tuner_lgbm.cv_results_)    \n",
    "    \n",
    "    # Get current parameters and the best parameters    \n",
    "    best_params = pd.Series(bayes_cv_tuner_lgbm.best_params_)\n",
    "    print('Model #{}\\nBest ROC-AUC: {}\\nBest params: {}\\n'.format(\n",
    "        len(all_models),\n",
    "        np.round(bayes_cv_tuner_lgbm.best_score_, 4),\n",
    "        bayes_cv_tuner_lgbm.best_params_\n",
    "    ))\n",
    "    \n",
    "    # Save all model results\n",
    "    clf_name = bayes_cv_tuner_lgbm.estimator.__class__.__name__\n",
    "    all_models.to_csv(clf_name+\"_cv_results.csv\")"
   ]
  },
  {
   "cell_type": "code",
   "execution_count": null,
   "metadata": {},
   "outputs": [],
   "source": [
    "%%time\n",
    "result_lgbm = bayes_cv_tuner_lgbm.fit(mailout_train_scaled, target, callback=status_print)"
   ]
  },
  {
   "cell_type": "code",
   "execution_count": null,
   "metadata": {},
   "outputs": [],
   "source": [
    "bayes_lgbm = bayes_cv_tuner_lgbm.best_estimator_\n",
    "bayes_lgbm"
   ]
  },
  {
   "cell_type": "code",
   "execution_count": null,
   "metadata": {},
   "outputs": [],
   "source": [
    "print(grid.best_estimator_)"
   ]
  },
  {
   "cell_type": "code",
   "execution_count": null,
   "metadata": {},
   "outputs": [],
   "source": []
  }
 ],
 "metadata": {
  "kernelspec": {
   "display_name": "Python 3",
   "language": "python",
   "name": "python3"
  },
  "language_info": {
   "codemirror_mode": {
    "name": "ipython",
    "version": 3
   },
   "file_extension": ".py",
   "mimetype": "text/x-python",
   "name": "python",
   "nbconvert_exporter": "python",
   "pygments_lexer": "ipython3",
   "version": "3.7.4"
  }
 },
 "nbformat": 4,
 "nbformat_minor": 2
}
